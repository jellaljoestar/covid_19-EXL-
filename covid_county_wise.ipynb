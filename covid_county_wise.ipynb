{
  "nbformat": 4,
  "nbformat_minor": 0,
  "metadata": {
    "colab": {
      "name": "covid_county_wise.ipynb",
      "provenance": [],
      "collapsed_sections": [],
      "toc_visible": true,
      "include_colab_link": true
    },
    "kernelspec": {
      "display_name": "Python 3",
      "name": "python3"
    }
  },
  "cells": [
    {
      "cell_type": "markdown",
      "metadata": {
        "id": "view-in-github",
        "colab_type": "text"
      },
      "source": [
        "<a href=\"https://colab.research.google.com/github/jellaljoestar/covid_19-EXL-/blob/main/covid_county_wise.ipynb\" target=\"_parent\"><img src=\"https://colab.research.google.com/assets/colab-badge.svg\" alt=\"Open In Colab\"/></a>"
      ]
    },
    {
      "cell_type": "markdown",
      "metadata": {
        "id": "L8R6YpmqMwRB"
      },
      "source": [
        "#**SOLUTION CODE**\n",
        "\n",
        "\n",
        "\n",
        "---\n",
        "\n"
      ]
    },
    {
      "cell_type": "markdown",
      "metadata": {
        "id": "d-2zqBuJrO93"
      },
      "source": [
        "**Importing Data**"
      ]
    },
    {
      "cell_type": "code",
      "metadata": {
        "colab": {
          "base_uri": "https://localhost:8080/"
        },
        "id": "1_bSWQLf1IAW",
        "outputId": "44e7bd89-f886-422b-82fa-cb403f840020"
      },
      "source": [
        "from google.colab import drive\n",
        "drive.mount('/content/drive')"
      ],
      "execution_count": null,
      "outputs": [
        {
          "output_type": "stream",
          "text": [
            "Mounted at /content/drive\n"
          ],
          "name": "stdout"
        }
      ]
    },
    {
      "cell_type": "markdown",
      "metadata": {
        "id": "Cq-hrIXOlFkl"
      },
      "source": [
        "**Importing Libraries**"
      ]
    },
    {
      "cell_type": "code",
      "metadata": {
        "id": "ayG7I0HfYUrd"
      },
      "source": [
        "import pandas as pd\n",
        "import numpy as np\n",
        "import matplotlib.pyplot as plt\n",
        "import seaborn as sns\n",
        "from sklearn.model_selection import train_test_split\n",
        "from sklearn.linear_model import LinearRegression\n",
        "%matplotlib inline\n"
      ],
      "execution_count": null,
      "outputs": []
    },
    {
      "cell_type": "markdown",
      "metadata": {
        "id": "pfVok4yBmE8V"
      },
      "source": [
        "# **Data Sample Cleaning and Analysis**"
      ]
    },
    {
      "cell_type": "code",
      "metadata": {
        "colab": {
          "base_uri": "https://localhost:8080/"
        },
        "id": "MQz98P_Oi6fJ",
        "outputId": "f7a01bdc-8ffc-494f-d91b-b7d0ddb9c392"
      },
      "source": [
        "df = pd.read_csv('/content/drive/MyDrive/DATA/EQ_2021_Data_Sample.csv', error_bad_lines=False)"
      ],
      "execution_count": null,
      "outputs": [
        {
          "output_type": "stream",
          "text": [
            "/usr/local/lib/python3.7/dist-packages/IPython/core/interactiveshell.py:2718: DtypeWarning: Columns (31,32,33,34) have mixed types.Specify dtype option on import or set low_memory=False.\n",
            "  interactivity=interactivity, compiler=compiler, result=result)\n"
          ],
          "name": "stderr"
        }
      ]
    },
    {
      "cell_type": "code",
      "metadata": {
        "colab": {
          "base_uri": "https://localhost:8080/"
        },
        "id": "GQXdMfil__mt",
        "outputId": "aa87d10b-07e3-45b2-e2ca-f60294d9344b"
      },
      "source": [
        "df.info()"
      ],
      "execution_count": null,
      "outputs": [
        {
          "output_type": "stream",
          "text": [
            "<class 'pandas.core.frame.DataFrame'>\n",
            "RangeIndex: 1179375 entries, 0 to 1179374\n",
            "Data columns (total 82 columns):\n",
            " #   Column                                                                  Non-Null Count    Dtype  \n",
            "---  ------                                                                  --------------    -----  \n",
            " 0   countyFIPS                                                              1179375 non-null  int64  \n",
            " 1   stateFIPS                                                               1179375 non-null  int64  \n",
            " 2   date                                                                    1179375 non-null  object \n",
            " 3   confirmed_cases                                                         1179375 non-null  int64  \n",
            " 4   deaths                                                                  1179375 non-null  int64  \n",
            " 5   google_mobility_retail_and_recreation                                   566919 non-null   float64\n",
            " 6   google_mobility_grocery_and_pharmacy                                    512485 non-null   float64\n",
            " 7   google_mobility_parks                                                   196917 non-null   float64\n",
            " 8   google_mobility_transit_stations                                        318671 non-null   float64\n",
            " 9   google_mobility_workplaces                                              836664 non-null   float64\n",
            " 10  google_mobility_residential                                             456569 non-null   float64\n",
            " 11  apple_mobility_driving                                                  756444 non-null   float64\n",
            " 12  apple_mobility_transit                                                  54375 non-null    float64\n",
            " 13  apple_mobility_walking                                                  142875 non-null   float64\n",
            " 14  Electricity_Sales_ Revenue_Residential ($ x1000)                        987530 non-null   float64\n",
            " 15  Electricity_Sales_ Sales_Residential (MWHr)                             987530 non-null   float64\n",
            " 16  Electricity_Sales_ Customers_Count_Residential                          987530 non-null   float64\n",
            " 17  Electricity_Sales_ Revenue_Commercial ($ x1000)                         987530 non-null   float64\n",
            " 18  Electricity_Sales_ Sales_Commercial (MWHr)                              987530 non-null   float64\n",
            " 19  Electricity_Sales_ Customers_Count_Commercial                           987530 non-null   float64\n",
            " 20  Electricity_Sales_ Revenue_Industrial ($ x1000)                         987530 non-null   float64\n",
            " 21  Electricity_Sales_ Sales_Industrial (MWHr)                              987530 non-null   float64\n",
            " 22  Electricity_Sales_ Customers_Count_Industrial                           987530 non-null   float64\n",
            " 23  Electricity_Sales_ Revenue_Transportation ($ x1000)                     987530 non-null   float64\n",
            " 24  Electricity_Sales_ Sales_Transportation (MWHr)                          987530 non-null   float64\n",
            " 25  Electricity_Sales_ Customers_Count_Transportation                       987530 non-null   float64\n",
            " 26  DOMESTIC_Air_Passengers                                                 673030 non-null   float64\n",
            " 27  INTERNATIONAL_Air_Passengers                                            673030 non-null   float64\n",
            " 28  DOMESTIC_Flights_Cnt                                                    673030 non-null   float64\n",
            " 29  INTERNATIONAL_Flights_Cnt                                               673030 non-null   float64\n",
            " 30  YoY_Reopened_Seated_Diner_Data                                          166084 non-null   float64\n",
            " 31  test_count                                                              1179375 non-null  object \n",
            " 32  test_rate                                                               1179375 non-null  object \n",
            " 33  new_test_rate                                                           1179375 non-null  object \n",
            " 34  new_test_count                                                          1179375 non-null  object \n",
            " 35  C_PCTPOVALL_2019                                                        1178250 non-null  float64\n",
            " 36  C_PCTPOV017_2019                                                        1178250 non-null  float64\n",
            " 37  C_PCTPOV517_2019                                                        1178250 non-null  float64\n",
            " 38  C_MEDHHINC_2019                                                         1178250 non-null  float64\n",
            " 39  C_TOT_POP                                                               1175250 non-null  float64\n",
            " 40  C_TOT_MALE                                                              1175250 non-null  float64\n",
            " 41  C_TOT_FEMALE                                                            1175250 non-null  float64\n",
            " 42  C_WA_MALE                                                               1175250 non-null  float64\n",
            " 43  C_WA_FEMALE                                                             1175250 non-null  float64\n",
            " 44  C_MinorityPCT                                                           1175250 non-null  float64\n",
            " 45  C_BlackPCT                                                              1175250 non-null  float64\n",
            " 46  C_HispanicPCT                                                           1175250 non-null  float64\n",
            " 47  C_M_Labour_Force_corr                                                   1083645 non-null  float64\n",
            " 48  C_M_Employed_corr                                                       1083645 non-null  float64\n",
            " 49  C_M_Unemployment_Rate_corr                                              1083645 non-null  float64\n",
            " 50  S_D_dly_new_test                                                        382583 non-null   float64\n",
            " 51  S_D_cummulative_test                                                    382583 non-null   float64\n",
            " 52  initclaims_count_regular_cw                                             388773 non-null   float64\n",
            " 53  initclaims_rate_regular_cw                                              388773 non-null   float64\n",
            " 54  spend_all_cd                                                            577686 non-null   float64\n",
            " 55  merchants_all_cd                                                        403626 non-null   float64\n",
            " 56  revenue_all_cd                                                          403626 non-null   float64\n",
            " 57  critical_staffing_shortage_today_yes_SD                                 1080825 non-null  float64\n",
            " 58  critical_staffing_shortage_anticipated_within_week_yes_SD               1080825 non-null  float64\n",
            " 59  hospital_onset_covid_SD                                                 1080825 non-null  float64\n",
            " 60  hospital_onset_covid_coverage_SD                                        1080825 non-null  float64\n",
            " 61  inpatient_beds_SD                                                       1080825 non-null  float64\n",
            " 62  inpatient_beds_coverage_SD                                              1080825 non-null  float64\n",
            " 63  previous_day_admission_adult_covid_confirmed_SD                         1080825 non-null  float64\n",
            " 64  previous_day_admission_adult_covid_suspected_SD                         1080825 non-null  float64\n",
            " 65  previous_day_admission_pediatric_covid_confirmed_SD                     1080825 non-null  float64\n",
            " 66  previous_day_admission_pediatric_covid_suspected_SD                     1080825 non-null  float64\n",
            " 67  staffed_adult_icu_bed_occupancy_SD                                      1080825 non-null  float64\n",
            " 68  staffed_adult_icu_bed_occupancy_coverage_SD                             1080825 non-null  float64\n",
            " 69  staffed_icu_adult_patients_confirmed_and_suspected_covid_SD             1080825 non-null  float64\n",
            " 70  staffed_icu_adult_patients_confirmed_covid_SD                           1080825 non-null  float64\n",
            " 71  total_adult_patients_hospitalized_confirmed_and_suspected_covid_SD      1080825 non-null  float64\n",
            " 72  total_adult_patients_hospitalized_confirmed_covid_SD                    1080825 non-null  float64\n",
            " 73  total_pediatric_patients_hospitalized_confirmed_and_suspected_covid_SD  1080825 non-null  float64\n",
            " 74  total_pediatric_patients_hospitalized_confirmed_covid_SD                1080825 non-null  float64\n",
            " 75  inpatient_beds_utilization_SD                                           1080825 non-null  float64\n",
            " 76  inpatient_beds_utilization_numerator_SD                                 1080825 non-null  float64\n",
            " 77  inpatient_beds_utilization_denominator_SD                               1080825 non-null  float64\n",
            " 78  percent_of_inpatients_with_covid_SD                                     1080825 non-null  float64\n",
            " 79  inpatient_bed_covid_utilization_SD                                      1080825 non-null  float64\n",
            " 80  adult_icu_bed_covid_utilization_SD                                      1080825 non-null  float64\n",
            " 81  adult_icu_bed_utilization_SD                                            1080825 non-null  float64\n",
            "dtypes: float64(73), int64(4), object(5)\n",
            "memory usage: 737.8+ MB\n"
          ],
          "name": "stdout"
        }
      ]
    },
    {
      "cell_type": "code",
      "metadata": {
        "colab": {
          "base_uri": "https://localhost:8080/"
        },
        "id": "47yVF_Nllp7Y",
        "outputId": "196c00c2-a875-41ea-a467-84e87d22b4e0"
      },
      "source": [
        "df.shape"
      ],
      "execution_count": null,
      "outputs": [
        {
          "output_type": "execute_result",
          "data": {
            "text/plain": [
              "(1179375, 82)"
            ]
          },
          "metadata": {
            "tags": []
          },
          "execution_count": 26
        }
      ]
    },
    {
      "cell_type": "code",
      "metadata": {
        "colab": {
          "base_uri": "https://localhost:8080/",
          "height": 362
        },
        "id": "ffjOxATNlE8B",
        "outputId": "2d816e61-2c2f-43fc-f949-e21aed3f9f9a"
      },
      "source": [
        "df.head()"
      ],
      "execution_count": null,
      "outputs": [
        {
          "output_type": "execute_result",
          "data": {
            "text/html": [
              "<div>\n",
              "<style scoped>\n",
              "    .dataframe tbody tr th:only-of-type {\n",
              "        vertical-align: middle;\n",
              "    }\n",
              "\n",
              "    .dataframe tbody tr th {\n",
              "        vertical-align: top;\n",
              "    }\n",
              "\n",
              "    .dataframe thead th {\n",
              "        text-align: right;\n",
              "    }\n",
              "</style>\n",
              "<table border=\"1\" class=\"dataframe\">\n",
              "  <thead>\n",
              "    <tr style=\"text-align: right;\">\n",
              "      <th></th>\n",
              "      <th>countyFIPS</th>\n",
              "      <th>stateFIPS</th>\n",
              "      <th>date</th>\n",
              "      <th>confirmed_cases</th>\n",
              "      <th>deaths</th>\n",
              "      <th>google_mobility_retail_and_recreation</th>\n",
              "      <th>google_mobility_grocery_and_pharmacy</th>\n",
              "      <th>google_mobility_parks</th>\n",
              "      <th>google_mobility_transit_stations</th>\n",
              "      <th>google_mobility_workplaces</th>\n",
              "      <th>google_mobility_residential</th>\n",
              "      <th>apple_mobility_driving</th>\n",
              "      <th>apple_mobility_transit</th>\n",
              "      <th>apple_mobility_walking</th>\n",
              "      <th>Electricity_Sales_ Revenue_Residential ($ x1000)</th>\n",
              "      <th>Electricity_Sales_ Sales_Residential (MWHr)</th>\n",
              "      <th>Electricity_Sales_ Customers_Count_Residential</th>\n",
              "      <th>Electricity_Sales_ Revenue_Commercial ($ x1000)</th>\n",
              "      <th>Electricity_Sales_ Sales_Commercial (MWHr)</th>\n",
              "      <th>Electricity_Sales_ Customers_Count_Commercial</th>\n",
              "      <th>Electricity_Sales_ Revenue_Industrial ($ x1000)</th>\n",
              "      <th>Electricity_Sales_ Sales_Industrial (MWHr)</th>\n",
              "      <th>Electricity_Sales_ Customers_Count_Industrial</th>\n",
              "      <th>Electricity_Sales_ Revenue_Transportation ($ x1000)</th>\n",
              "      <th>Electricity_Sales_ Sales_Transportation (MWHr)</th>\n",
              "      <th>Electricity_Sales_ Customers_Count_Transportation</th>\n",
              "      <th>DOMESTIC_Air_Passengers</th>\n",
              "      <th>INTERNATIONAL_Air_Passengers</th>\n",
              "      <th>DOMESTIC_Flights_Cnt</th>\n",
              "      <th>INTERNATIONAL_Flights_Cnt</th>\n",
              "      <th>YoY_Reopened_Seated_Diner_Data</th>\n",
              "      <th>test_count</th>\n",
              "      <th>test_rate</th>\n",
              "      <th>new_test_rate</th>\n",
              "      <th>new_test_count</th>\n",
              "      <th>C_PCTPOVALL_2019</th>\n",
              "      <th>C_PCTPOV017_2019</th>\n",
              "      <th>C_PCTPOV517_2019</th>\n",
              "      <th>C_MEDHHINC_2019</th>\n",
              "      <th>C_TOT_POP</th>\n",
              "      <th>...</th>\n",
              "      <th>C_WA_MALE</th>\n",
              "      <th>C_WA_FEMALE</th>\n",
              "      <th>C_MinorityPCT</th>\n",
              "      <th>C_BlackPCT</th>\n",
              "      <th>C_HispanicPCT</th>\n",
              "      <th>C_M_Labour_Force_corr</th>\n",
              "      <th>C_M_Employed_corr</th>\n",
              "      <th>C_M_Unemployment_Rate_corr</th>\n",
              "      <th>S_D_dly_new_test</th>\n",
              "      <th>S_D_cummulative_test</th>\n",
              "      <th>initclaims_count_regular_cw</th>\n",
              "      <th>initclaims_rate_regular_cw</th>\n",
              "      <th>spend_all_cd</th>\n",
              "      <th>merchants_all_cd</th>\n",
              "      <th>revenue_all_cd</th>\n",
              "      <th>critical_staffing_shortage_today_yes_SD</th>\n",
              "      <th>critical_staffing_shortage_anticipated_within_week_yes_SD</th>\n",
              "      <th>hospital_onset_covid_SD</th>\n",
              "      <th>hospital_onset_covid_coverage_SD</th>\n",
              "      <th>inpatient_beds_SD</th>\n",
              "      <th>inpatient_beds_coverage_SD</th>\n",
              "      <th>previous_day_admission_adult_covid_confirmed_SD</th>\n",
              "      <th>previous_day_admission_adult_covid_suspected_SD</th>\n",
              "      <th>previous_day_admission_pediatric_covid_confirmed_SD</th>\n",
              "      <th>previous_day_admission_pediatric_covid_suspected_SD</th>\n",
              "      <th>staffed_adult_icu_bed_occupancy_SD</th>\n",
              "      <th>staffed_adult_icu_bed_occupancy_coverage_SD</th>\n",
              "      <th>staffed_icu_adult_patients_confirmed_and_suspected_covid_SD</th>\n",
              "      <th>staffed_icu_adult_patients_confirmed_covid_SD</th>\n",
              "      <th>total_adult_patients_hospitalized_confirmed_and_suspected_covid_SD</th>\n",
              "      <th>total_adult_patients_hospitalized_confirmed_covid_SD</th>\n",
              "      <th>total_pediatric_patients_hospitalized_confirmed_and_suspected_covid_SD</th>\n",
              "      <th>total_pediatric_patients_hospitalized_confirmed_covid_SD</th>\n",
              "      <th>inpatient_beds_utilization_SD</th>\n",
              "      <th>inpatient_beds_utilization_numerator_SD</th>\n",
              "      <th>inpatient_beds_utilization_denominator_SD</th>\n",
              "      <th>percent_of_inpatients_with_covid_SD</th>\n",
              "      <th>inpatient_bed_covid_utilization_SD</th>\n",
              "      <th>adult_icu_bed_covid_utilization_SD</th>\n",
              "      <th>adult_icu_bed_utilization_SD</th>\n",
              "    </tr>\n",
              "  </thead>\n",
              "  <tbody>\n",
              "    <tr>\n",
              "      <th>0</th>\n",
              "      <td>1001</td>\n",
              "      <td>1</td>\n",
              "      <td>2020-01-22</td>\n",
              "      <td>0</td>\n",
              "      <td>0</td>\n",
              "      <td>NaN</td>\n",
              "      <td>NaN</td>\n",
              "      <td>NaN</td>\n",
              "      <td>NaN</td>\n",
              "      <td>NaN</td>\n",
              "      <td>NaN</td>\n",
              "      <td>101.51</td>\n",
              "      <td>NaN</td>\n",
              "      <td>NaN</td>\n",
              "      <td>670692.302</td>\n",
              "      <td>5414230.614</td>\n",
              "      <td>4585564.0</td>\n",
              "      <td>398194.878</td>\n",
              "      <td>3435710.506</td>\n",
              "      <td>744182.0</td>\n",
              "      <td>309206.548</td>\n",
              "      <td>5512107.536</td>\n",
              "      <td>16298.0</td>\n",
              "      <td>0.0</td>\n",
              "      <td>0.0</td>\n",
              "      <td>0.0</td>\n",
              "      <td>NaN</td>\n",
              "      <td>NaN</td>\n",
              "      <td>NaN</td>\n",
              "      <td>NaN</td>\n",
              "      <td>NaN</td>\n",
              "      <td>.</td>\n",
              "      <td>.</td>\n",
              "      <td>.</td>\n",
              "      <td>.</td>\n",
              "      <td>12.1</td>\n",
              "      <td>15.9</td>\n",
              "      <td>14.4</td>\n",
              "      <td>58233.0</td>\n",
              "      <td>55514.0</td>\n",
              "      <td>...</td>\n",
              "      <td>21383.0</td>\n",
              "      <td>22185.0</td>\n",
              "      <td>0.2364</td>\n",
              "      <td>0.18</td>\n",
              "      <td>0.0257</td>\n",
              "      <td>26127.0</td>\n",
              "      <td>25513.0</td>\n",
              "      <td>2.4</td>\n",
              "      <td>NaN</td>\n",
              "      <td>NaN</td>\n",
              "      <td>NaN</td>\n",
              "      <td>NaN</td>\n",
              "      <td>116.0</td>\n",
              "      <td>NaN</td>\n",
              "      <td>NaN</td>\n",
              "      <td>0.0</td>\n",
              "      <td>0.0</td>\n",
              "      <td>0.0</td>\n",
              "      <td>0.0</td>\n",
              "      <td>6.0</td>\n",
              "      <td>1.0</td>\n",
              "      <td>0.0</td>\n",
              "      <td>0.0</td>\n",
              "      <td>0.0</td>\n",
              "      <td>0.0</td>\n",
              "      <td>0.0</td>\n",
              "      <td>0.0</td>\n",
              "      <td>0.0</td>\n",
              "      <td>0.0</td>\n",
              "      <td>0.0</td>\n",
              "      <td>0.0</td>\n",
              "      <td>0.0</td>\n",
              "      <td>0.0</td>\n",
              "      <td>0.0</td>\n",
              "      <td>0.0</td>\n",
              "      <td>0.0</td>\n",
              "      <td>0.0</td>\n",
              "      <td>0.0</td>\n",
              "      <td>0.0</td>\n",
              "      <td>0.0</td>\n",
              "    </tr>\n",
              "    <tr>\n",
              "      <th>1</th>\n",
              "      <td>1003</td>\n",
              "      <td>1</td>\n",
              "      <td>2020-01-22</td>\n",
              "      <td>0</td>\n",
              "      <td>0</td>\n",
              "      <td>NaN</td>\n",
              "      <td>NaN</td>\n",
              "      <td>NaN</td>\n",
              "      <td>NaN</td>\n",
              "      <td>NaN</td>\n",
              "      <td>NaN</td>\n",
              "      <td>103.12</td>\n",
              "      <td>NaN</td>\n",
              "      <td>94.32</td>\n",
              "      <td>670692.302</td>\n",
              "      <td>5414230.614</td>\n",
              "      <td>4585564.0</td>\n",
              "      <td>398194.878</td>\n",
              "      <td>3435710.506</td>\n",
              "      <td>744182.0</td>\n",
              "      <td>309206.548</td>\n",
              "      <td>5512107.536</td>\n",
              "      <td>16298.0</td>\n",
              "      <td>0.0</td>\n",
              "      <td>0.0</td>\n",
              "      <td>0.0</td>\n",
              "      <td>NaN</td>\n",
              "      <td>NaN</td>\n",
              "      <td>NaN</td>\n",
              "      <td>NaN</td>\n",
              "      <td>NaN</td>\n",
              "      <td>.</td>\n",
              "      <td>.</td>\n",
              "      <td>.</td>\n",
              "      <td>.</td>\n",
              "      <td>10.1</td>\n",
              "      <td>13.5</td>\n",
              "      <td>13.3</td>\n",
              "      <td>59871.0</td>\n",
              "      <td>190790.0</td>\n",
              "      <td>...</td>\n",
              "      <td>81423.0</td>\n",
              "      <td>85193.0</td>\n",
              "      <td>0.1679</td>\n",
              "      <td>0.10</td>\n",
              "      <td>0.0458</td>\n",
              "      <td>95993.0</td>\n",
              "      <td>93689.0</td>\n",
              "      <td>2.4</td>\n",
              "      <td>NaN</td>\n",
              "      <td>NaN</td>\n",
              "      <td>NaN</td>\n",
              "      <td>NaN</td>\n",
              "      <td>269.0</td>\n",
              "      <td>-17.0</td>\n",
              "      <td>-495.0</td>\n",
              "      <td>0.0</td>\n",
              "      <td>0.0</td>\n",
              "      <td>0.0</td>\n",
              "      <td>0.0</td>\n",
              "      <td>6.0</td>\n",
              "      <td>1.0</td>\n",
              "      <td>0.0</td>\n",
              "      <td>0.0</td>\n",
              "      <td>0.0</td>\n",
              "      <td>0.0</td>\n",
              "      <td>0.0</td>\n",
              "      <td>0.0</td>\n",
              "      <td>0.0</td>\n",
              "      <td>0.0</td>\n",
              "      <td>0.0</td>\n",
              "      <td>0.0</td>\n",
              "      <td>0.0</td>\n",
              "      <td>0.0</td>\n",
              "      <td>0.0</td>\n",
              "      <td>0.0</td>\n",
              "      <td>0.0</td>\n",
              "      <td>0.0</td>\n",
              "      <td>0.0</td>\n",
              "      <td>0.0</td>\n",
              "      <td>0.0</td>\n",
              "    </tr>\n",
              "    <tr>\n",
              "      <th>2</th>\n",
              "      <td>1005</td>\n",
              "      <td>1</td>\n",
              "      <td>2020-01-22</td>\n",
              "      <td>0</td>\n",
              "      <td>0</td>\n",
              "      <td>NaN</td>\n",
              "      <td>NaN</td>\n",
              "      <td>NaN</td>\n",
              "      <td>NaN</td>\n",
              "      <td>NaN</td>\n",
              "      <td>NaN</td>\n",
              "      <td>120.67</td>\n",
              "      <td>NaN</td>\n",
              "      <td>NaN</td>\n",
              "      <td>670692.302</td>\n",
              "      <td>5414230.614</td>\n",
              "      <td>4585564.0</td>\n",
              "      <td>398194.878</td>\n",
              "      <td>3435710.506</td>\n",
              "      <td>744182.0</td>\n",
              "      <td>309206.548</td>\n",
              "      <td>5512107.536</td>\n",
              "      <td>16298.0</td>\n",
              "      <td>0.0</td>\n",
              "      <td>0.0</td>\n",
              "      <td>0.0</td>\n",
              "      <td>NaN</td>\n",
              "      <td>NaN</td>\n",
              "      <td>NaN</td>\n",
              "      <td>NaN</td>\n",
              "      <td>NaN</td>\n",
              "      <td>.</td>\n",
              "      <td>.</td>\n",
              "      <td>.</td>\n",
              "      <td>.</td>\n",
              "      <td>27.1</td>\n",
              "      <td>41.0</td>\n",
              "      <td>39.5</td>\n",
              "      <td>35972.0</td>\n",
              "      <td>27201.0</td>\n",
              "      <td>...</td>\n",
              "      <td>7397.0</td>\n",
              "      <td>6338.0</td>\n",
              "      <td>0.5355</td>\n",
              "      <td>0.47</td>\n",
              "      <td>0.0509</td>\n",
              "      <td>8624.0</td>\n",
              "      <td>8349.0</td>\n",
              "      <td>3.2</td>\n",
              "      <td>NaN</td>\n",
              "      <td>NaN</td>\n",
              "      <td>NaN</td>\n",
              "      <td>NaN</td>\n",
              "      <td>NaN</td>\n",
              "      <td>NaN</td>\n",
              "      <td>NaN</td>\n",
              "      <td>0.0</td>\n",
              "      <td>0.0</td>\n",
              "      <td>0.0</td>\n",
              "      <td>0.0</td>\n",
              "      <td>6.0</td>\n",
              "      <td>1.0</td>\n",
              "      <td>0.0</td>\n",
              "      <td>0.0</td>\n",
              "      <td>0.0</td>\n",
              "      <td>0.0</td>\n",
              "      <td>0.0</td>\n",
              "      <td>0.0</td>\n",
              "      <td>0.0</td>\n",
              "      <td>0.0</td>\n",
              "      <td>0.0</td>\n",
              "      <td>0.0</td>\n",
              "      <td>0.0</td>\n",
              "      <td>0.0</td>\n",
              "      <td>0.0</td>\n",
              "      <td>0.0</td>\n",
              "      <td>0.0</td>\n",
              "      <td>0.0</td>\n",
              "      <td>0.0</td>\n",
              "      <td>0.0</td>\n",
              "      <td>0.0</td>\n",
              "    </tr>\n",
              "    <tr>\n",
              "      <th>3</th>\n",
              "      <td>1007</td>\n",
              "      <td>1</td>\n",
              "      <td>2020-01-22</td>\n",
              "      <td>0</td>\n",
              "      <td>0</td>\n",
              "      <td>NaN</td>\n",
              "      <td>NaN</td>\n",
              "      <td>NaN</td>\n",
              "      <td>NaN</td>\n",
              "      <td>NaN</td>\n",
              "      <td>NaN</td>\n",
              "      <td>111.18</td>\n",
              "      <td>NaN</td>\n",
              "      <td>NaN</td>\n",
              "      <td>670692.302</td>\n",
              "      <td>5414230.614</td>\n",
              "      <td>4585564.0</td>\n",
              "      <td>398194.878</td>\n",
              "      <td>3435710.506</td>\n",
              "      <td>744182.0</td>\n",
              "      <td>309206.548</td>\n",
              "      <td>5512107.536</td>\n",
              "      <td>16298.0</td>\n",
              "      <td>0.0</td>\n",
              "      <td>0.0</td>\n",
              "      <td>0.0</td>\n",
              "      <td>NaN</td>\n",
              "      <td>NaN</td>\n",
              "      <td>NaN</td>\n",
              "      <td>NaN</td>\n",
              "      <td>NaN</td>\n",
              "      <td>.</td>\n",
              "      <td>.</td>\n",
              "      <td>.</td>\n",
              "      <td>.</td>\n",
              "      <td>20.3</td>\n",
              "      <td>25.9</td>\n",
              "      <td>25.2</td>\n",
              "      <td>47918.0</td>\n",
              "      <td>22597.0</td>\n",
              "      <td>...</td>\n",
              "      <td>8903.0</td>\n",
              "      <td>8326.0</td>\n",
              "      <td>0.2545</td>\n",
              "      <td>0.22</td>\n",
              "      <td>0.0204</td>\n",
              "      <td>8752.0</td>\n",
              "      <td>8534.0</td>\n",
              "      <td>2.5</td>\n",
              "      <td>NaN</td>\n",
              "      <td>NaN</td>\n",
              "      <td>NaN</td>\n",
              "      <td>NaN</td>\n",
              "      <td>NaN</td>\n",
              "      <td>NaN</td>\n",
              "      <td>NaN</td>\n",
              "      <td>0.0</td>\n",
              "      <td>0.0</td>\n",
              "      <td>0.0</td>\n",
              "      <td>0.0</td>\n",
              "      <td>6.0</td>\n",
              "      <td>1.0</td>\n",
              "      <td>0.0</td>\n",
              "      <td>0.0</td>\n",
              "      <td>0.0</td>\n",
              "      <td>0.0</td>\n",
              "      <td>0.0</td>\n",
              "      <td>0.0</td>\n",
              "      <td>0.0</td>\n",
              "      <td>0.0</td>\n",
              "      <td>0.0</td>\n",
              "      <td>0.0</td>\n",
              "      <td>0.0</td>\n",
              "      <td>0.0</td>\n",
              "      <td>0.0</td>\n",
              "      <td>0.0</td>\n",
              "      <td>0.0</td>\n",
              "      <td>0.0</td>\n",
              "      <td>0.0</td>\n",
              "      <td>0.0</td>\n",
              "      <td>0.0</td>\n",
              "    </tr>\n",
              "    <tr>\n",
              "      <th>4</th>\n",
              "      <td>1009</td>\n",
              "      <td>1</td>\n",
              "      <td>2020-01-22</td>\n",
              "      <td>0</td>\n",
              "      <td>0</td>\n",
              "      <td>NaN</td>\n",
              "      <td>NaN</td>\n",
              "      <td>NaN</td>\n",
              "      <td>NaN</td>\n",
              "      <td>NaN</td>\n",
              "      <td>NaN</td>\n",
              "      <td>91.56</td>\n",
              "      <td>NaN</td>\n",
              "      <td>NaN</td>\n",
              "      <td>670692.302</td>\n",
              "      <td>5414230.614</td>\n",
              "      <td>4585564.0</td>\n",
              "      <td>398194.878</td>\n",
              "      <td>3435710.506</td>\n",
              "      <td>744182.0</td>\n",
              "      <td>309206.548</td>\n",
              "      <td>5512107.536</td>\n",
              "      <td>16298.0</td>\n",
              "      <td>0.0</td>\n",
              "      <td>0.0</td>\n",
              "      <td>0.0</td>\n",
              "      <td>NaN</td>\n",
              "      <td>NaN</td>\n",
              "      <td>NaN</td>\n",
              "      <td>NaN</td>\n",
              "      <td>NaN</td>\n",
              "      <td>.</td>\n",
              "      <td>.</td>\n",
              "      <td>.</td>\n",
              "      <td>.</td>\n",
              "      <td>16.3</td>\n",
              "      <td>21.0</td>\n",
              "      <td>21.4</td>\n",
              "      <td>52902.0</td>\n",
              "      <td>57826.0</td>\n",
              "      <td>...</td>\n",
              "      <td>27498.0</td>\n",
              "      <td>28129.0</td>\n",
              "      <td>0.1191</td>\n",
              "      <td>0.02</td>\n",
              "      <td>0.0860</td>\n",
              "      <td>25508.0</td>\n",
              "      <td>24930.0</td>\n",
              "      <td>2.3</td>\n",
              "      <td>NaN</td>\n",
              "      <td>NaN</td>\n",
              "      <td>NaN</td>\n",
              "      <td>NaN</td>\n",
              "      <td>-609.0</td>\n",
              "      <td>NaN</td>\n",
              "      <td>NaN</td>\n",
              "      <td>0.0</td>\n",
              "      <td>0.0</td>\n",
              "      <td>0.0</td>\n",
              "      <td>0.0</td>\n",
              "      <td>6.0</td>\n",
              "      <td>1.0</td>\n",
              "      <td>0.0</td>\n",
              "      <td>0.0</td>\n",
              "      <td>0.0</td>\n",
              "      <td>0.0</td>\n",
              "      <td>0.0</td>\n",
              "      <td>0.0</td>\n",
              "      <td>0.0</td>\n",
              "      <td>0.0</td>\n",
              "      <td>0.0</td>\n",
              "      <td>0.0</td>\n",
              "      <td>0.0</td>\n",
              "      <td>0.0</td>\n",
              "      <td>0.0</td>\n",
              "      <td>0.0</td>\n",
              "      <td>0.0</td>\n",
              "      <td>0.0</td>\n",
              "      <td>0.0</td>\n",
              "      <td>0.0</td>\n",
              "      <td>0.0</td>\n",
              "    </tr>\n",
              "  </tbody>\n",
              "</table>\n",
              "<p>5 rows × 82 columns</p>\n",
              "</div>"
            ],
            "text/plain": [
              "   countyFIPS  ...  adult_icu_bed_utilization_SD\n",
              "0        1001  ...                           0.0\n",
              "1        1003  ...                           0.0\n",
              "2        1005  ...                           0.0\n",
              "3        1007  ...                           0.0\n",
              "4        1009  ...                           0.0\n",
              "\n",
              "[5 rows x 82 columns]"
            ]
          },
          "metadata": {
            "tags": []
          },
          "execution_count": 27
        }
      ]
    },
    {
      "cell_type": "code",
      "metadata": {
        "id": "Go0OBFmHkPpU"
      },
      "source": [
        "df.replace('.', '0', inplace=True)"
      ],
      "execution_count": null,
      "outputs": []
    },
    {
      "cell_type": "markdown",
      "metadata": {
        "id": "N3j3H64E44rJ"
      },
      "source": [
        "**Changing Datatypes accordingly**"
      ]
    },
    {
      "cell_type": "code",
      "metadata": {
        "id": "ypYbuk1ZjRCF"
      },
      "source": [
        "df.iloc[:,31:35] = df.iloc[:,31:35].astype('float64')"
      ],
      "execution_count": null,
      "outputs": []
    },
    {
      "cell_type": "code",
      "metadata": {
        "id": "leP0ZmdTaukV"
      },
      "source": [
        "df['date'] = pd.to_datetime(df['date'])\n"
      ],
      "execution_count": null,
      "outputs": []
    },
    {
      "cell_type": "code",
      "metadata": {
        "id": "qZG3OAQNvgml"
      },
      "source": [
        "df.iloc[:,4] = df.iloc[:,4].astype('float64')"
      ],
      "execution_count": null,
      "outputs": []
    },
    {
      "cell_type": "code",
      "metadata": {
        "id": "WoomKmz1m12u"
      },
      "source": [
        "df.info()"
      ],
      "execution_count": null,
      "outputs": []
    },
    {
      "cell_type": "markdown",
      "metadata": {
        "id": "ZsyUW0Nq5bZO"
      },
      "source": [
        "**Assumption: New Confirmed Cases started rising from 2020-03-01**\n",
        "\n"
      ]
    },
    {
      "cell_type": "code",
      "metadata": {
        "id": "lnWaawgxa5dX"
      },
      "source": [
        "df = df[(df['date'].dt.year == 2021) | (df['date'] >= '2020-03')]"
      ],
      "execution_count": null,
      "outputs": []
    },
    {
      "cell_type": "code",
      "metadata": {
        "colab": {
          "base_uri": "https://localhost:8080/"
        },
        "id": "IeYVr2aab5-h",
        "outputId": "0cac7464-9ab0-4a25-d95d-ecea93ea6a54"
      },
      "source": [
        "df.shape"
      ],
      "execution_count": null,
      "outputs": [
        {
          "output_type": "execute_result",
          "data": {
            "text/plain": [
              "(1056720, 82)"
            ]
          },
          "metadata": {
            "tags": []
          },
          "execution_count": 34
        }
      ]
    },
    {
      "cell_type": "code",
      "metadata": {
        "id": "ll0PEsJrbo_7"
      },
      "source": [
        "df.info()"
      ],
      "execution_count": null,
      "outputs": []
    },
    {
      "cell_type": "code",
      "metadata": {
        "id": "wzz-uz6ywG9E"
      },
      "source": [
        "df.corr()"
      ],
      "execution_count": null,
      "outputs": []
    },
    {
      "cell_type": "markdown",
      "metadata": {
        "id": "-ltiIRIK6GYm"
      },
      "source": [
        "**dropping Null values**"
      ]
    },
    {
      "cell_type": "code",
      "metadata": {
        "id": "LvynqoXQrY4Z"
      },
      "source": [
        "df.dropna(subset=['C_M_Labour_Force_corr','C_M_Employed_corr'],inplace=True)"
      ],
      "execution_count": null,
      "outputs": []
    },
    {
      "cell_type": "code",
      "metadata": {
        "id": "Ckezu97qz9ph"
      },
      "source": [
        "df.describe()"
      ],
      "execution_count": null,
      "outputs": []
    },
    {
      "cell_type": "markdown",
      "metadata": {
        "id": "2gr4zRWp6ZSg"
      },
      "source": [
        "### Removing variables of lesser relevance"
      ]
    },
    {
      "cell_type": "code",
      "metadata": {
        "id": "2SAl3GACkHIG"
      },
      "source": [
        "df.drop(df.columns[[12,13,14,15,16,17,18,19,20,21,22,23,24,25,26,27,28,29,30,35,36,37,38,40,41,42,43,44,45,46,49,52,53,54,55,56]],axis=1, inplace=True)"
      ],
      "execution_count": null,
      "outputs": []
    },
    {
      "cell_type": "code",
      "metadata": {
        "colab": {
          "base_uri": "https://localhost:8080/"
        },
        "id": "fKw3jy5uw_vq",
        "outputId": "7d255aa5-8ec5-42e3-e308-6f6316b9d1ef"
      },
      "source": [
        "df.shape"
      ],
      "execution_count": null,
      "outputs": [
        {
          "output_type": "execute_result",
          "data": {
            "text/plain": [
              "(961146, 46)"
            ]
          },
          "metadata": {
            "tags": []
          },
          "execution_count": 40
        }
      ]
    },
    {
      "cell_type": "markdown",
      "metadata": {
        "id": "V04n799h69aX"
      },
      "source": [
        "**Replacing Null Values**"
      ]
    },
    {
      "cell_type": "code",
      "metadata": {
        "colab": {
          "base_uri": "https://localhost:8080/"
        },
        "id": "0u15B14AwXQE",
        "outputId": "9c4d0553-a12c-4a09-a2ef-0377992038fd"
      },
      "source": [
        "df[['S_D_dly_new_test','S_D_cummulative_test']].fillna(0, inplace=True)"
      ],
      "execution_count": null,
      "outputs": [
        {
          "output_type": "stream",
          "text": [
            "/usr/local/lib/python3.7/dist-packages/pandas/core/frame.py:4327: SettingWithCopyWarning: \n",
            "A value is trying to be set on a copy of a slice from a DataFrame\n",
            "\n",
            "See the caveats in the documentation: https://pandas.pydata.org/pandas-docs/stable/user_guide/indexing.html#returning-a-view-versus-a-copy\n",
            "  downcast=downcast,\n"
          ],
          "name": "stderr"
        }
      ]
    },
    {
      "cell_type": "code",
      "metadata": {
        "colab": {
          "base_uri": "https://localhost:8080/"
        },
        "id": "G1b4KCxjIRFv",
        "outputId": "984e53e7-6f94-4597-9220-9cda9e40fbea"
      },
      "source": [
        "df = df.fillna(df.mean())"
      ],
      "execution_count": null,
      "outputs": [
        {
          "output_type": "stream",
          "text": [
            "/usr/local/lib/python3.7/dist-packages/ipykernel_launcher.py:1: FutureWarning: DataFrame.mean and DataFrame.median with numeric_only=None will include datetime64 and datetime64tz columns in a future version.\n",
            "  \"\"\"Entry point for launching an IPython kernel.\n"
          ],
          "name": "stderr"
        }
      ]
    },
    {
      "cell_type": "markdown",
      "metadata": {
        "id": "mJ5EucBOmyS-"
      },
      "source": [
        "### Combined Mobility"
      ]
    },
    {
      "cell_type": "markdown",
      "metadata": {
        "id": "-2HotaffESRP"
      },
      "source": [
        "**Combining google mobility features by taking mean to check for correlation with confirmed cases**"
      ]
    },
    {
      "cell_type": "code",
      "metadata": {
        "id": "BrrjZ_nVmAZv"
      },
      "source": [
        "df['ToT_mobility'] = df.iloc[:,5:10].mean(axis=1)"
      ],
      "execution_count": null,
      "outputs": []
    },
    {
      "cell_type": "code",
      "metadata": {
        "id": "KPHRga_XhjCS"
      },
      "source": [
        "df.info()"
      ],
      "execution_count": null,
      "outputs": []
    },
    {
      "cell_type": "code",
      "metadata": {
        "id": "yXoRxKi5jAZ2"
      },
      "source": [
        "df.corr()"
      ],
      "execution_count": null,
      "outputs": []
    },
    {
      "cell_type": "markdown",
      "metadata": {
        "id": "bU_yxnZVmz6k"
      },
      "source": [
        "\n",
        "### Converting State data to County data according to Population Distribution"
      ]
    },
    {
      "cell_type": "code",
      "metadata": {
        "id": "g-36sm6o8Ua0"
      },
      "source": [
        "df['S_TOT_POP'] = df['C_TOT_POP'].groupby(df['stateFIPS']).transform('sum')"
      ],
      "execution_count": null,
      "outputs": []
    },
    {
      "cell_type": "code",
      "metadata": {
        "id": "K83Y0WYS8UYG"
      },
      "source": [
        "df['ratio'] = df['C_TOT_POP']/df['S_TOT_POP']"
      ],
      "execution_count": null,
      "outputs": []
    },
    {
      "cell_type": "code",
      "metadata": {
        "id": "3RGT_2n41uU0"
      },
      "source": [
        "df.iloc[:,19:46] = df.iloc[:,19:46].mul(df['ratio'],axis=0)"
      ],
      "execution_count": null,
      "outputs": []
    },
    {
      "cell_type": "code",
      "metadata": {
        "id": "6GmwZ7cn8USz"
      },
      "source": [
        "df.iloc[:,12:16] = df.iloc[:,12:16].mul(df['ratio'],axis=0)"
      ],
      "execution_count": null,
      "outputs": []
    },
    {
      "cell_type": "code",
      "metadata": {
        "id": "m6qdPYiIa8RZ"
      },
      "source": [
        "df.corr()"
      ],
      "execution_count": null,
      "outputs": []
    },
    {
      "cell_type": "code",
      "metadata": {
        "id": "4Py5nj7Hh2VY"
      },
      "source": [
        "df['S_TOT_POP'].unique()"
      ],
      "execution_count": null,
      "outputs": []
    },
    {
      "cell_type": "code",
      "metadata": {
        "id": "dM8bveuetFDb"
      },
      "source": [
        "df.info()"
      ],
      "execution_count": null,
      "outputs": []
    },
    {
      "cell_type": "markdown",
      "metadata": {
        "id": "8Mh2peM3qaEC"
      },
      "source": [
        "### Dropping features eliminated by Filter Method"
      ]
    },
    {
      "cell_type": "code",
      "metadata": {
        "id": "5xRe0OBmDZ1T"
      },
      "source": [
        "df.drop(df.columns[[4,5,6,7,8,9,10,11,13,14,20,23,28,29,30,37,38,39,42,43,44,45,47,48]],axis=1, inplace=True)\n"
      ],
      "execution_count": null,
      "outputs": []
    },
    {
      "cell_type": "code",
      "metadata": {
        "id": "2Et7W7nm-D68"
      },
      "source": [
        "df.info()"
      ],
      "execution_count": null,
      "outputs": []
    },
    {
      "cell_type": "markdown",
      "metadata": {
        "id": "8Cf9M4c69TBV"
      },
      "source": [
        "## Visualisation of data"
      ]
    },
    {
      "cell_type": "code",
      "metadata": {
        "colab": {
          "base_uri": "https://localhost:8080/",
          "height": 497
        },
        "id": "N-22FzqTFNKH",
        "outputId": "42f2c88a-f86b-467c-e127-16edd7b62d9a"
      },
      "source": [
        "fig, ax = plt.subplots(figsize=(16,8))\n",
        "ax.scatter(df['test_count'],df['confirmed_cases'])\n",
        "ax.set_xlabel('Hospital')\n",
        "ax.set_ylabel('Confirmed Cases')\n",
        "plt.show()"
      ],
      "execution_count": null,
      "outputs": [
        {
          "output_type": "display_data",
          "data": {
            "image/png": "[encoded data removed]",
            "text/plain": [
              "<Figure size 1152x576 with 1 Axes>"
            ]
          },
          "metadata": {
            "tags": [],
            "needs_background": "light"
          }
        }
      ]
    },
    {
      "cell_type": "markdown",
      "metadata": {
        "id": "NTyTtZ9SWork"
      },
      "source": [
        "**Similar scatter plots were observed from other features. outliers are steering the association between the variables and confirmed cases**"
      ]
    },
    {
      "cell_type": "code",
      "metadata": {
        "colab": {
          "base_uri": "https://localhost:8080/",
          "height": 297
        },
        "id": "vriUGkQnXQut",
        "outputId": "082166f5-001b-4a0c-debb-3ca2ec8707fb"
      },
      "source": [
        "sns.boxplot(x=df['confirmed_cases'])"
      ],
      "execution_count": null,
      "outputs": [
        {
          "output_type": "execute_result",
          "data": {
            "text/plain": [
              "<matplotlib.axes._subplots.AxesSubplot at 0x7f75a2fdbad0>"
            ]
          },
          "metadata": {
            "tags": []
          },
          "execution_count": 56
        },
        {
          "output_type": "display_data",
          "data": {
            "image/png": "[encoded data removed]",
            "text/plain": [
              "<Figure size 432x288 with 1 Axes>"
            ]
          },
          "metadata": {
            "tags": [],
            "needs_background": "light"
          }
        }
      ]
    },
    {
      "cell_type": "markdown",
      "metadata": {
        "id": "F7MMVxryd7lH"
      },
      "source": [
        "**BOX plot also shows evidence of outliers affecting the real usable data**"
      ]
    },
    {
      "cell_type": "markdown",
      "metadata": {
        "id": "7p4Gh5bl_ei0"
      },
      "source": [
        "## Removing Outliers"
      ]
    },
    {
      "cell_type": "code",
      "metadata": {
        "id": "VAeYnJCNkhnm"
      },
      "source": [
        "df1 = df.iloc[:,3:]\n"
      ],
      "execution_count": null,
      "outputs": []
    },
    {
      "cell_type": "markdown",
      "metadata": {
        "id": "q5DNtbFC_l-S"
      },
      "source": [
        "### IQR Method"
      ]
    },
    {
      "cell_type": "code",
      "metadata": {
        "id": "XrVqzfLzkMzu"
      },
      "source": [
        "Q1 = df1.quantile(0.25)\n",
        "Q3 = df1.quantile(0.75)\n",
        "IQR = Q3 - Q1\n",
        "df1 = df1[~((df1 < (Q1 - 1.5 * IQR)) |(df1 > (Q3 + 1.5 * IQR))).any(axis=1)]"
      ],
      "execution_count": null,
      "outputs": []
    },
    {
      "cell_type": "code",
      "metadata": {
        "colab": {
          "base_uri": "https://localhost:8080/",
          "height": 304
        },
        "id": "Z38kV6mJsyx6",
        "outputId": "d15a3a5e-e18e-4e59-c9df-740bf021fa91"
      },
      "source": [
        "df1.describe()"
      ],
      "execution_count": null,
      "outputs": [
        {
          "output_type": "execute_result",
          "data": {
            "text/html": [
              "<div>\n",
              "<style scoped>\n",
              "    .dataframe tbody tr th:only-of-type {\n",
              "        vertical-align: middle;\n",
              "    }\n",
              "\n",
              "    .dataframe tbody tr th {\n",
              "        vertical-align: top;\n",
              "    }\n",
              "\n",
              "    .dataframe thead th {\n",
              "        text-align: right;\n",
              "    }\n",
              "</style>\n",
              "<table border=\"1\" class=\"dataframe\">\n",
              "  <thead>\n",
              "    <tr style=\"text-align: right;\">\n",
              "      <th></th>\n",
              "      <th>confirmed_cases</th>\n",
              "      <th>test_count</th>\n",
              "      <th>new_test_count</th>\n",
              "      <th>C_TOT_POP</th>\n",
              "      <th>C_M_Labour_Force_corr</th>\n",
              "      <th>C_M_Employed_corr</th>\n",
              "      <th>S_D_dly_new_test</th>\n",
              "      <th>critical_staffing_shortage_today_yes_SD</th>\n",
              "      <th>critical_staffing_shortage_anticipated_within_week_yes_SD</th>\n",
              "      <th>hospital_onset_covid_coverage_SD</th>\n",
              "      <th>inpatient_beds_SD</th>\n",
              "      <th>inpatient_beds_coverage_SD</th>\n",
              "      <th>previous_day_admission_adult_covid_confirmed_SD</th>\n",
              "      <th>staffed_adult_icu_bed_occupancy_SD</th>\n",
              "      <th>staffed_adult_icu_bed_occupancy_coverage_SD</th>\n",
              "      <th>staffed_icu_adult_patients_confirmed_and_suspected_covid_SD</th>\n",
              "      <th>staffed_icu_adult_patients_confirmed_covid_SD</th>\n",
              "      <th>total_adult_patients_hospitalized_confirmed_and_suspected_covid_SD</th>\n",
              "      <th>total_adult_patients_hospitalized_confirmed_covid_SD</th>\n",
              "      <th>inpatient_beds_utilization_numerator_SD</th>\n",
              "      <th>inpatient_beds_utilization_denominator_SD</th>\n",
              "      <th>ToT_mobility</th>\n",
              "    </tr>\n",
              "  </thead>\n",
              "  <tbody>\n",
              "    <tr>\n",
              "      <th>count</th>\n",
              "      <td>597075.000000</td>\n",
              "      <td>597075.000000</td>\n",
              "      <td>597075.000000</td>\n",
              "      <td>597075.000000</td>\n",
              "      <td>597075.000000</td>\n",
              "      <td>597075.000000</td>\n",
              "      <td>597075.000000</td>\n",
              "      <td>597075.000000</td>\n",
              "      <td>597075.000000</td>\n",
              "      <td>597075.000000</td>\n",
              "      <td>5.970750e+05</td>\n",
              "      <td>5.970750e+05</td>\n",
              "      <td>597075.000000</td>\n",
              "      <td>597075.000000</td>\n",
              "      <td>597075.000000</td>\n",
              "      <td>597075.000000</td>\n",
              "      <td>597075.000000</td>\n",
              "      <td>597075.000000</td>\n",
              "      <td>597075.000000</td>\n",
              "      <td>597075.000000</td>\n",
              "      <td>597075.000000</td>\n",
              "      <td>597075.000000</td>\n",
              "    </tr>\n",
              "    <tr>\n",
              "      <th>mean</th>\n",
              "      <td>227.932220</td>\n",
              "      <td>11.662391</td>\n",
              "      <td>0.131533</td>\n",
              "      <td>20824.195659</td>\n",
              "      <td>9376.649064</td>\n",
              "      <td>8635.691288</td>\n",
              "      <td>0.230989</td>\n",
              "      <td>0.000106</td>\n",
              "      <td>0.000127</td>\n",
              "      <td>0.001143</td>\n",
              "      <td>1.397517e-01</td>\n",
              "      <td>1.243407e-03</td>\n",
              "      <td>0.000673</td>\n",
              "      <td>0.005596</td>\n",
              "      <td>0.000614</td>\n",
              "      <td>0.001516</td>\n",
              "      <td>0.001345</td>\n",
              "      <td>0.005770</td>\n",
              "      <td>0.004746</td>\n",
              "      <td>0.087254</td>\n",
              "      <td>0.136057</td>\n",
              "      <td>-3.068443</td>\n",
              "    </tr>\n",
              "    <tr>\n",
              "      <th>std</th>\n",
              "      <td>354.312404</td>\n",
              "      <td>15.333470</td>\n",
              "      <td>0.154649</td>\n",
              "      <td>20358.086993</td>\n",
              "      <td>9674.603378</td>\n",
              "      <td>8795.297806</td>\n",
              "      <td>0.257529</td>\n",
              "      <td>0.000164</td>\n",
              "      <td>0.000193</td>\n",
              "      <td>0.001042</td>\n",
              "      <td>1.374335e-01</td>\n",
              "      <td>1.126753e-03</td>\n",
              "      <td>0.001031</td>\n",
              "      <td>0.008343</td>\n",
              "      <td>0.000850</td>\n",
              "      <td>0.002257</td>\n",
              "      <td>0.002004</td>\n",
              "      <td>0.008389</td>\n",
              "      <td>0.007123</td>\n",
              "      <td>0.088460</td>\n",
              "      <td>0.134096</td>\n",
              "      <td>3.042273</td>\n",
              "    </tr>\n",
              "    <tr>\n",
              "      <th>min</th>\n",
              "      <td>0.000000</td>\n",
              "      <td>0.000000</td>\n",
              "      <td>0.000000</td>\n",
              "      <td>71.000000</td>\n",
              "      <td>171.000000</td>\n",
              "      <td>161.000000</td>\n",
              "      <td>0.000000</td>\n",
              "      <td>0.000000</td>\n",
              "      <td>0.000000</td>\n",
              "      <td>0.000000</td>\n",
              "      <td>4.312587e-07</td>\n",
              "      <td>8.903808e-08</td>\n",
              "      <td>0.000000</td>\n",
              "      <td>0.000000</td>\n",
              "      <td>0.000000</td>\n",
              "      <td>0.000000</td>\n",
              "      <td>0.000000</td>\n",
              "      <td>0.000000</td>\n",
              "      <td>0.000000</td>\n",
              "      <td>0.000000</td>\n",
              "      <td>0.000000</td>\n",
              "      <td>-12.166811</td>\n",
              "    </tr>\n",
              "    <tr>\n",
              "      <th>25%</th>\n",
              "      <td>7.000000</td>\n",
              "      <td>1.219388</td>\n",
              "      <td>0.025547</td>\n",
              "      <td>7505.000000</td>\n",
              "      <td>3171.000000</td>\n",
              "      <td>2946.000000</td>\n",
              "      <td>0.059308</td>\n",
              "      <td>0.000000</td>\n",
              "      <td>0.000000</td>\n",
              "      <td>0.000404</td>\n",
              "      <td>4.308735e-02</td>\n",
              "      <td>4.416263e-04</td>\n",
              "      <td>0.000000</td>\n",
              "      <td>0.000000</td>\n",
              "      <td>0.000000</td>\n",
              "      <td>0.000000</td>\n",
              "      <td>0.000000</td>\n",
              "      <td>0.000000</td>\n",
              "      <td>0.000000</td>\n",
              "      <td>0.024215</td>\n",
              "      <td>0.041139</td>\n",
              "      <td>-3.829980</td>\n",
              "    </tr>\n",
              "    <tr>\n",
              "      <th>50%</th>\n",
              "      <td>65.000000</td>\n",
              "      <td>5.649336</td>\n",
              "      <td>0.077024</td>\n",
              "      <td>14827.000000</td>\n",
              "      <td>6316.000000</td>\n",
              "      <td>5845.000000</td>\n",
              "      <td>0.150844</td>\n",
              "      <td>0.000016</td>\n",
              "      <td>0.000027</td>\n",
              "      <td>0.000872</td>\n",
              "      <td>1.005997e-01</td>\n",
              "      <td>9.500894e-04</td>\n",
              "      <td>0.000130</td>\n",
              "      <td>0.000986</td>\n",
              "      <td>0.000163</td>\n",
              "      <td>0.000234</td>\n",
              "      <td>0.000258</td>\n",
              "      <td>0.001288</td>\n",
              "      <td>0.001000</td>\n",
              "      <td>0.061284</td>\n",
              "      <td>0.097807</td>\n",
              "      <td>-3.829980</td>\n",
              "    </tr>\n",
              "    <tr>\n",
              "      <th>75%</th>\n",
              "      <td>295.000000</td>\n",
              "      <td>15.995221</td>\n",
              "      <td>0.178520</td>\n",
              "      <td>26347.000000</td>\n",
              "      <td>11721.000000</td>\n",
              "      <td>10843.000000</td>\n",
              "      <td>0.297959</td>\n",
              "      <td>0.000155</td>\n",
              "      <td>0.000189</td>\n",
              "      <td>0.001558</td>\n",
              "      <td>1.888040e-01</td>\n",
              "      <td>1.696143e-03</td>\n",
              "      <td>0.000995</td>\n",
              "      <td>0.008730</td>\n",
              "      <td>0.001016</td>\n",
              "      <td>0.002382</td>\n",
              "      <td>0.002082</td>\n",
              "      <td>0.009107</td>\n",
              "      <td>0.007185</td>\n",
              "      <td>0.120830</td>\n",
              "      <td>0.185192</td>\n",
              "      <td>-1.954963</td>\n",
              "    </tr>\n",
              "    <tr>\n",
              "      <th>max</th>\n",
              "      <td>2064.000000</td>\n",
              "      <td>101.451233</td>\n",
              "      <td>1.115644</td>\n",
              "      <td>152218.000000</td>\n",
              "      <td>71299.000000</td>\n",
              "      <td>66117.000000</td>\n",
              "      <td>1.714492</td>\n",
              "      <td>0.000820</td>\n",
              "      <td>0.000992</td>\n",
              "      <td>0.007867</td>\n",
              "      <td>1.008289e+00</td>\n",
              "      <td>8.482987e-03</td>\n",
              "      <td>0.005718</td>\n",
              "      <td>0.048991</td>\n",
              "      <td>0.005215</td>\n",
              "      <td>0.012935</td>\n",
              "      <td>0.011394</td>\n",
              "      <td>0.049709</td>\n",
              "      <td>0.040580</td>\n",
              "      <td>0.657253</td>\n",
              "      <td>0.988907</td>\n",
              "      <td>6.238831</td>\n",
              "    </tr>\n",
              "  </tbody>\n",
              "</table>\n",
              "</div>"
            ],
            "text/plain": [
              "       confirmed_cases  ...   ToT_mobility\n",
              "count    597075.000000  ...  597075.000000\n",
              "mean        227.932220  ...      -3.068443\n",
              "std         354.312404  ...       3.042273\n",
              "min           0.000000  ...     -12.166811\n",
              "25%           7.000000  ...      -3.829980\n",
              "50%          65.000000  ...      -3.829980\n",
              "75%         295.000000  ...      -1.954963\n",
              "max        2064.000000  ...       6.238831\n",
              "\n",
              "[8 rows x 22 columns]"
            ]
          },
          "metadata": {
            "tags": []
          },
          "execution_count": 59
        }
      ]
    },
    {
      "cell_type": "markdown",
      "metadata": {
        "id": "1OMdpE64_5Qa"
      },
      "source": [
        "## Feature Selection by BE Method"
      ]
    },
    {
      "cell_type": "code",
      "metadata": {
        "id": "YGm9oZ7G_LhG"
      },
      "source": [
        "X = df1.iloc[:,1:]\n",
        "Y = df1.iloc[:,0]"
      ],
      "execution_count": null,
      "outputs": []
    },
    {
      "cell_type": "code",
      "metadata": {
        "colab": {
          "base_uri": "https://localhost:8080/"
        },
        "id": "_vsQiYyQIA3g",
        "outputId": "58d43d9e-ac4e-4285-ae94-9fdb93e3746d"
      },
      "source": [
        "\n",
        "import statsmodels.api as sm\n",
        "cols = list(X.columns)\n",
        "pmax = 1\n",
        "while (len(cols)>0):\n",
        "    p= []\n",
        "    X_1 = X[cols]\n",
        "    X_1 = sm.add_constant(X_1)\n",
        "    model = sm.OLS(Y,X_1).fit()\n",
        "    p = pd.Series(model.pvalues.values[1:],index = cols)      \n",
        "    pmax = max(p)\n",
        "    feature_with_p_max = p.idxmax()\n",
        "    if(pmax>0.05):\n",
        "        cols.remove(feature_with_p_max)\n",
        "    else:\n",
        "        break\n",
        "selected_features_BE = cols\n",
        "print(len(selected_features_BE))"
      ],
      "execution_count": null,
      "outputs": [
        {
          "output_type": "stream",
          "text": [
            "/usr/local/lib/python3.7/dist-packages/statsmodels/tools/_testing.py:19: FutureWarning: pandas.util.testing is deprecated. Use the functions in the public API at pandas.testing instead.\n",
            "  import pandas.util.testing as tm\n"
          ],
          "name": "stderr"
        },
        {
          "output_type": "stream",
          "text": [
            "19\n"
          ],
          "name": "stdout"
        }
      ]
    },
    {
      "cell_type": "code",
      "metadata": {
        "id": "YofYiNIdMgKi"
      },
      "source": [
        "X = df1[selected_features_BE]\n",
        "df1.corr()"
      ],
      "execution_count": null,
      "outputs": []
    },
    {
      "cell_type": "code",
      "metadata": {
        "id": "VYj-zlzRlRev"
      },
      "source": [
        "X.info()"
      ],
      "execution_count": null,
      "outputs": []
    },
    {
      "cell_type": "markdown",
      "metadata": {
        "id": "oAubD7YZyoWm"
      },
      "source": [
        "**Final feature selection by eliminating similar features with high correlation**"
      ]
    },
    {
      "cell_type": "code",
      "metadata": {
        "colab": {
          "base_uri": "https://localhost:8080/"
        },
        "id": "nbrLzA5FcYzc",
        "outputId": "883c3316-1241-4a60-b886-bf1f9205c770"
      },
      "source": [
        "X.drop(X.columns[[2,3,4,5,7,17,18]],axis=1,inplace=True) #better"
      ],
      "execution_count": null,
      "outputs": [
        {
          "output_type": "stream",
          "text": [
            "/usr/local/lib/python3.7/dist-packages/pandas/core/frame.py:4174: SettingWithCopyWarning: \n",
            "A value is trying to be set on a copy of a slice from a DataFrame\n",
            "\n",
            "See the caveats in the documentation: https://pandas.pydata.org/pandas-docs/stable/user_guide/indexing.html#returning-a-view-versus-a-copy\n",
            "  errors=errors,\n"
          ],
          "name": "stderr"
        }
      ]
    },
    {
      "cell_type": "code",
      "metadata": {
        "colab": {
          "base_uri": "https://localhost:8080/",
          "height": 718
        },
        "id": "PO3QumdchJ1r",
        "outputId": "cf0a3f17-1ca3-45ed-cfd0-7d008a0d28f1"
      },
      "source": [
        "df1.corr()"
      ],
      "execution_count": null,
      "outputs": [
        {
          "output_type": "execute_result",
          "data": {
            "text/html": [
              "<div>\n",
              "<style scoped>\n",
              "    .dataframe tbody tr th:only-of-type {\n",
              "        vertical-align: middle;\n",
              "    }\n",
              "\n",
              "    .dataframe tbody tr th {\n",
              "        vertical-align: top;\n",
              "    }\n",
              "\n",
              "    .dataframe thead th {\n",
              "        text-align: right;\n",
              "    }\n",
              "</style>\n",
              "<table border=\"1\" class=\"dataframe\">\n",
              "  <thead>\n",
              "    <tr style=\"text-align: right;\">\n",
              "      <th></th>\n",
              "      <th>confirmed_cases</th>\n",
              "      <th>test_count</th>\n",
              "      <th>new_test_count</th>\n",
              "      <th>C_TOT_POP</th>\n",
              "      <th>C_M_Labour_Force_corr</th>\n",
              "      <th>C_M_Employed_corr</th>\n",
              "      <th>S_D_dly_new_test</th>\n",
              "      <th>critical_staffing_shortage_today_yes_SD</th>\n",
              "      <th>critical_staffing_shortage_anticipated_within_week_yes_SD</th>\n",
              "      <th>hospital_onset_covid_coverage_SD</th>\n",
              "      <th>inpatient_beds_SD</th>\n",
              "      <th>inpatient_beds_coverage_SD</th>\n",
              "      <th>previous_day_admission_adult_covid_confirmed_SD</th>\n",
              "      <th>staffed_adult_icu_bed_occupancy_SD</th>\n",
              "      <th>staffed_adult_icu_bed_occupancy_coverage_SD</th>\n",
              "      <th>staffed_icu_adult_patients_confirmed_and_suspected_covid_SD</th>\n",
              "      <th>staffed_icu_adult_patients_confirmed_covid_SD</th>\n",
              "      <th>total_adult_patients_hospitalized_confirmed_and_suspected_covid_SD</th>\n",
              "      <th>total_adult_patients_hospitalized_confirmed_covid_SD</th>\n",
              "      <th>inpatient_beds_utilization_numerator_SD</th>\n",
              "      <th>inpatient_beds_utilization_denominator_SD</th>\n",
              "      <th>ToT_mobility</th>\n",
              "    </tr>\n",
              "  </thead>\n",
              "  <tbody>\n",
              "    <tr>\n",
              "      <th>confirmed_cases</th>\n",
              "      <td>1.000000</td>\n",
              "      <td>0.720465</td>\n",
              "      <td>0.546357</td>\n",
              "      <td>0.214889</td>\n",
              "      <td>0.212896</td>\n",
              "      <td>0.222713</td>\n",
              "      <td>0.181488</td>\n",
              "      <td>0.589502</td>\n",
              "      <td>0.608145</td>\n",
              "      <td>0.372644</td>\n",
              "      <td>0.355590</td>\n",
              "      <td>0.346727</td>\n",
              "      <td>0.713359</td>\n",
              "      <td>0.638045</td>\n",
              "      <td>0.622960</td>\n",
              "      <td>0.682872</td>\n",
              "      <td>0.718045</td>\n",
              "      <td>0.725016</td>\n",
              "      <td>0.751012</td>\n",
              "      <td>0.417594</td>\n",
              "      <td>0.369978</td>\n",
              "      <td>0.126169</td>\n",
              "    </tr>\n",
              "    <tr>\n",
              "      <th>test_count</th>\n",
              "      <td>0.720465</td>\n",
              "      <td>1.000000</td>\n",
              "      <td>0.879953</td>\n",
              "      <td>0.389508</td>\n",
              "      <td>0.378121</td>\n",
              "      <td>0.385905</td>\n",
              "      <td>0.314855</td>\n",
              "      <td>0.565349</td>\n",
              "      <td>0.571325</td>\n",
              "      <td>0.460646</td>\n",
              "      <td>0.527680</td>\n",
              "      <td>0.438138</td>\n",
              "      <td>0.708773</td>\n",
              "      <td>0.805884</td>\n",
              "      <td>0.721382</td>\n",
              "      <td>0.705405</td>\n",
              "      <td>0.717737</td>\n",
              "      <td>0.768151</td>\n",
              "      <td>0.745127</td>\n",
              "      <td>0.600422</td>\n",
              "      <td>0.545946</td>\n",
              "      <td>0.204089</td>\n",
              "    </tr>\n",
              "    <tr>\n",
              "      <th>new_test_count</th>\n",
              "      <td>0.546357</td>\n",
              "      <td>0.879953</td>\n",
              "      <td>1.000000</td>\n",
              "      <td>0.601507</td>\n",
              "      <td>0.582402</td>\n",
              "      <td>0.579405</td>\n",
              "      <td>0.414176</td>\n",
              "      <td>0.392212</td>\n",
              "      <td>0.391489</td>\n",
              "      <td>0.571422</td>\n",
              "      <td>0.699505</td>\n",
              "      <td>0.575819</td>\n",
              "      <td>0.536288</td>\n",
              "      <td>0.646728</td>\n",
              "      <td>0.550277</td>\n",
              "      <td>0.555131</td>\n",
              "      <td>0.550691</td>\n",
              "      <td>0.616808</td>\n",
              "      <td>0.569335</td>\n",
              "      <td>0.747326</td>\n",
              "      <td>0.709058</td>\n",
              "      <td>0.224586</td>\n",
              "    </tr>\n",
              "    <tr>\n",
              "      <th>C_TOT_POP</th>\n",
              "      <td>0.214889</td>\n",
              "      <td>0.389508</td>\n",
              "      <td>0.601507</td>\n",
              "      <td>1.000000</td>\n",
              "      <td>0.964617</td>\n",
              "      <td>0.959377</td>\n",
              "      <td>0.474140</td>\n",
              "      <td>0.062953</td>\n",
              "      <td>0.063896</td>\n",
              "      <td>0.648987</td>\n",
              "      <td>0.811223</td>\n",
              "      <td>0.680888</td>\n",
              "      <td>0.103166</td>\n",
              "      <td>0.251730</td>\n",
              "      <td>0.165984</td>\n",
              "      <td>0.153675</td>\n",
              "      <td>0.142136</td>\n",
              "      <td>0.186381</td>\n",
              "      <td>0.138744</td>\n",
              "      <td>0.780055</td>\n",
              "      <td>0.800300</td>\n",
              "      <td>0.136871</td>\n",
              "    </tr>\n",
              "    <tr>\n",
              "      <th>C_M_Labour_Force_corr</th>\n",
              "      <td>0.212896</td>\n",
              "      <td>0.378121</td>\n",
              "      <td>0.582402</td>\n",
              "      <td>0.964617</td>\n",
              "      <td>1.000000</td>\n",
              "      <td>0.997619</td>\n",
              "      <td>0.468688</td>\n",
              "      <td>0.058567</td>\n",
              "      <td>0.058964</td>\n",
              "      <td>0.640557</td>\n",
              "      <td>0.783766</td>\n",
              "      <td>0.657463</td>\n",
              "      <td>0.092990</td>\n",
              "      <td>0.244678</td>\n",
              "      <td>0.172604</td>\n",
              "      <td>0.141640</td>\n",
              "      <td>0.132943</td>\n",
              "      <td>0.177247</td>\n",
              "      <td>0.128561</td>\n",
              "      <td>0.754078</td>\n",
              "      <td>0.773246</td>\n",
              "      <td>0.132271</td>\n",
              "    </tr>\n",
              "    <tr>\n",
              "      <th>C_M_Employed_corr</th>\n",
              "      <td>0.222713</td>\n",
              "      <td>0.385905</td>\n",
              "      <td>0.579405</td>\n",
              "      <td>0.959377</td>\n",
              "      <td>0.997619</td>\n",
              "      <td>1.000000</td>\n",
              "      <td>0.468049</td>\n",
              "      <td>0.070030</td>\n",
              "      <td>0.070849</td>\n",
              "      <td>0.631789</td>\n",
              "      <td>0.771341</td>\n",
              "      <td>0.649205</td>\n",
              "      <td>0.106507</td>\n",
              "      <td>0.258074</td>\n",
              "      <td>0.187418</td>\n",
              "      <td>0.154746</td>\n",
              "      <td>0.146459</td>\n",
              "      <td>0.190808</td>\n",
              "      <td>0.141732</td>\n",
              "      <td>0.742615</td>\n",
              "      <td>0.761285</td>\n",
              "      <td>0.128791</td>\n",
              "    </tr>\n",
              "    <tr>\n",
              "      <th>S_D_dly_new_test</th>\n",
              "      <td>0.181488</td>\n",
              "      <td>0.314855</td>\n",
              "      <td>0.414176</td>\n",
              "      <td>0.474140</td>\n",
              "      <td>0.468688</td>\n",
              "      <td>0.468049</td>\n",
              "      <td>1.000000</td>\n",
              "      <td>0.228399</td>\n",
              "      <td>0.235087</td>\n",
              "      <td>0.572241</td>\n",
              "      <td>0.467155</td>\n",
              "      <td>0.577205</td>\n",
              "      <td>0.132298</td>\n",
              "      <td>0.194242</td>\n",
              "      <td>0.292061</td>\n",
              "      <td>0.133278</td>\n",
              "      <td>0.141123</td>\n",
              "      <td>0.173245</td>\n",
              "      <td>0.154884</td>\n",
              "      <td>0.448113</td>\n",
              "      <td>0.466850</td>\n",
              "      <td>0.099780</td>\n",
              "    </tr>\n",
              "    <tr>\n",
              "      <th>critical_staffing_shortage_today_yes_SD</th>\n",
              "      <td>0.589502</td>\n",
              "      <td>0.565349</td>\n",
              "      <td>0.392212</td>\n",
              "      <td>0.062953</td>\n",
              "      <td>0.058567</td>\n",
              "      <td>0.070030</td>\n",
              "      <td>0.228399</td>\n",
              "      <td>1.000000</td>\n",
              "      <td>0.985306</td>\n",
              "      <td>0.371939</td>\n",
              "      <td>0.226779</td>\n",
              "      <td>0.323160</td>\n",
              "      <td>0.670460</td>\n",
              "      <td>0.682365</td>\n",
              "      <td>0.779385</td>\n",
              "      <td>0.725460</td>\n",
              "      <td>0.763404</td>\n",
              "      <td>0.708985</td>\n",
              "      <td>0.721019</td>\n",
              "      <td>0.287769</td>\n",
              "      <td>0.245900</td>\n",
              "      <td>0.116648</td>\n",
              "    </tr>\n",
              "    <tr>\n",
              "      <th>critical_staffing_shortage_anticipated_within_week_yes_SD</th>\n",
              "      <td>0.608145</td>\n",
              "      <td>0.571325</td>\n",
              "      <td>0.391489</td>\n",
              "      <td>0.063896</td>\n",
              "      <td>0.058964</td>\n",
              "      <td>0.070849</td>\n",
              "      <td>0.235087</td>\n",
              "      <td>0.985306</td>\n",
              "      <td>1.000000</td>\n",
              "      <td>0.379983</td>\n",
              "      <td>0.233315</td>\n",
              "      <td>0.331965</td>\n",
              "      <td>0.689082</td>\n",
              "      <td>0.697219</td>\n",
              "      <td>0.794423</td>\n",
              "      <td>0.743123</td>\n",
              "      <td>0.778478</td>\n",
              "      <td>0.724832</td>\n",
              "      <td>0.737241</td>\n",
              "      <td>0.295532</td>\n",
              "      <td>0.253024</td>\n",
              "      <td>0.120080</td>\n",
              "    </tr>\n",
              "    <tr>\n",
              "      <th>hospital_onset_covid_coverage_SD</th>\n",
              "      <td>0.372644</td>\n",
              "      <td>0.460646</td>\n",
              "      <td>0.571422</td>\n",
              "      <td>0.648987</td>\n",
              "      <td>0.640557</td>\n",
              "      <td>0.631789</td>\n",
              "      <td>0.572241</td>\n",
              "      <td>0.371939</td>\n",
              "      <td>0.379983</td>\n",
              "      <td>1.000000</td>\n",
              "      <td>0.820852</td>\n",
              "      <td>0.955409</td>\n",
              "      <td>0.317666</td>\n",
              "      <td>0.399402</td>\n",
              "      <td>0.485542</td>\n",
              "      <td>0.334209</td>\n",
              "      <td>0.338294</td>\n",
              "      <td>0.345694</td>\n",
              "      <td>0.336378</td>\n",
              "      <td>0.767221</td>\n",
              "      <td>0.816333</td>\n",
              "      <td>0.174255</td>\n",
              "    </tr>\n",
              "    <tr>\n",
              "      <th>inpatient_beds_SD</th>\n",
              "      <td>0.355590</td>\n",
              "      <td>0.527680</td>\n",
              "      <td>0.699505</td>\n",
              "      <td>0.811223</td>\n",
              "      <td>0.783766</td>\n",
              "      <td>0.771341</td>\n",
              "      <td>0.467155</td>\n",
              "      <td>0.226779</td>\n",
              "      <td>0.233315</td>\n",
              "      <td>0.820852</td>\n",
              "      <td>1.000000</td>\n",
              "      <td>0.869822</td>\n",
              "      <td>0.275315</td>\n",
              "      <td>0.450827</td>\n",
              "      <td>0.360254</td>\n",
              "      <td>0.335268</td>\n",
              "      <td>0.325406</td>\n",
              "      <td>0.351769</td>\n",
              "      <td>0.308380</td>\n",
              "      <td>0.975600</td>\n",
              "      <td>0.996978</td>\n",
              "      <td>0.195107</td>\n",
              "    </tr>\n",
              "    <tr>\n",
              "      <th>inpatient_beds_coverage_SD</th>\n",
              "      <td>0.346727</td>\n",
              "      <td>0.438138</td>\n",
              "      <td>0.575819</td>\n",
              "      <td>0.680888</td>\n",
              "      <td>0.657463</td>\n",
              "      <td>0.649205</td>\n",
              "      <td>0.577205</td>\n",
              "      <td>0.323160</td>\n",
              "      <td>0.331965</td>\n",
              "      <td>0.955409</td>\n",
              "      <td>0.869822</td>\n",
              "      <td>1.000000</td>\n",
              "      <td>0.278464</td>\n",
              "      <td>0.371214</td>\n",
              "      <td>0.440590</td>\n",
              "      <td>0.297305</td>\n",
              "      <td>0.303369</td>\n",
              "      <td>0.309712</td>\n",
              "      <td>0.298722</td>\n",
              "      <td>0.819556</td>\n",
              "      <td>0.865496</td>\n",
              "      <td>0.180345</td>\n",
              "    </tr>\n",
              "    <tr>\n",
              "      <th>previous_day_admission_adult_covid_confirmed_SD</th>\n",
              "      <td>0.713359</td>\n",
              "      <td>0.708773</td>\n",
              "      <td>0.536288</td>\n",
              "      <td>0.103166</td>\n",
              "      <td>0.092990</td>\n",
              "      <td>0.106507</td>\n",
              "      <td>0.132298</td>\n",
              "      <td>0.670460</td>\n",
              "      <td>0.689082</td>\n",
              "      <td>0.317666</td>\n",
              "      <td>0.275315</td>\n",
              "      <td>0.278464</td>\n",
              "      <td>1.000000</td>\n",
              "      <td>0.755101</td>\n",
              "      <td>0.728921</td>\n",
              "      <td>0.887754</td>\n",
              "      <td>0.895788</td>\n",
              "      <td>0.905903</td>\n",
              "      <td>0.921940</td>\n",
              "      <td>0.348968</td>\n",
              "      <td>0.292226</td>\n",
              "      <td>0.134749</td>\n",
              "    </tr>\n",
              "    <tr>\n",
              "      <th>staffed_adult_icu_bed_occupancy_SD</th>\n",
              "      <td>0.638045</td>\n",
              "      <td>0.805884</td>\n",
              "      <td>0.646728</td>\n",
              "      <td>0.251730</td>\n",
              "      <td>0.244678</td>\n",
              "      <td>0.258074</td>\n",
              "      <td>0.194242</td>\n",
              "      <td>0.682365</td>\n",
              "      <td>0.697219</td>\n",
              "      <td>0.399402</td>\n",
              "      <td>0.450827</td>\n",
              "      <td>0.371214</td>\n",
              "      <td>0.755101</td>\n",
              "      <td>1.000000</td>\n",
              "      <td>0.872183</td>\n",
              "      <td>0.854989</td>\n",
              "      <td>0.840474</td>\n",
              "      <td>0.835845</td>\n",
              "      <td>0.787063</td>\n",
              "      <td>0.534426</td>\n",
              "      <td>0.474080</td>\n",
              "      <td>0.187699</td>\n",
              "    </tr>\n",
              "    <tr>\n",
              "      <th>staffed_adult_icu_bed_occupancy_coverage_SD</th>\n",
              "      <td>0.622960</td>\n",
              "      <td>0.721382</td>\n",
              "      <td>0.550277</td>\n",
              "      <td>0.165984</td>\n",
              "      <td>0.172604</td>\n",
              "      <td>0.187418</td>\n",
              "      <td>0.292061</td>\n",
              "      <td>0.779385</td>\n",
              "      <td>0.794423</td>\n",
              "      <td>0.485542</td>\n",
              "      <td>0.360254</td>\n",
              "      <td>0.440590</td>\n",
              "      <td>0.728921</td>\n",
              "      <td>0.872183</td>\n",
              "      <td>1.000000</td>\n",
              "      <td>0.777531</td>\n",
              "      <td>0.776596</td>\n",
              "      <td>0.762300</td>\n",
              "      <td>0.741398</td>\n",
              "      <td>0.423236</td>\n",
              "      <td>0.380590</td>\n",
              "      <td>0.170905</td>\n",
              "    </tr>\n",
              "    <tr>\n",
              "      <th>staffed_icu_adult_patients_confirmed_and_suspected_covid_SD</th>\n",
              "      <td>0.682872</td>\n",
              "      <td>0.705405</td>\n",
              "      <td>0.555131</td>\n",
              "      <td>0.153675</td>\n",
              "      <td>0.141640</td>\n",
              "      <td>0.154746</td>\n",
              "      <td>0.133278</td>\n",
              "      <td>0.725460</td>\n",
              "      <td>0.743123</td>\n",
              "      <td>0.334209</td>\n",
              "      <td>0.335268</td>\n",
              "      <td>0.297305</td>\n",
              "      <td>0.887754</td>\n",
              "      <td>0.854989</td>\n",
              "      <td>0.777531</td>\n",
              "      <td>1.000000</td>\n",
              "      <td>0.966155</td>\n",
              "      <td>0.930088</td>\n",
              "      <td>0.912238</td>\n",
              "      <td>0.412053</td>\n",
              "      <td>0.354978</td>\n",
              "      <td>0.147171</td>\n",
              "    </tr>\n",
              "    <tr>\n",
              "      <th>staffed_icu_adult_patients_confirmed_covid_SD</th>\n",
              "      <td>0.718045</td>\n",
              "      <td>0.717737</td>\n",
              "      <td>0.550691</td>\n",
              "      <td>0.142136</td>\n",
              "      <td>0.132943</td>\n",
              "      <td>0.146459</td>\n",
              "      <td>0.141123</td>\n",
              "      <td>0.763404</td>\n",
              "      <td>0.778478</td>\n",
              "      <td>0.338294</td>\n",
              "      <td>0.325406</td>\n",
              "      <td>0.303369</td>\n",
              "      <td>0.895788</td>\n",
              "      <td>0.840474</td>\n",
              "      <td>0.776596</td>\n",
              "      <td>0.966155</td>\n",
              "      <td>1.000000</td>\n",
              "      <td>0.950773</td>\n",
              "      <td>0.949709</td>\n",
              "      <td>0.401980</td>\n",
              "      <td>0.344894</td>\n",
              "      <td>0.145020</td>\n",
              "    </tr>\n",
              "    <tr>\n",
              "      <th>total_adult_patients_hospitalized_confirmed_and_suspected_covid_SD</th>\n",
              "      <td>0.725016</td>\n",
              "      <td>0.768151</td>\n",
              "      <td>0.616808</td>\n",
              "      <td>0.186381</td>\n",
              "      <td>0.177247</td>\n",
              "      <td>0.190808</td>\n",
              "      <td>0.173245</td>\n",
              "      <td>0.708985</td>\n",
              "      <td>0.724832</td>\n",
              "      <td>0.345694</td>\n",
              "      <td>0.351769</td>\n",
              "      <td>0.309712</td>\n",
              "      <td>0.905903</td>\n",
              "      <td>0.835845</td>\n",
              "      <td>0.762300</td>\n",
              "      <td>0.930088</td>\n",
              "      <td>0.950773</td>\n",
              "      <td>1.000000</td>\n",
              "      <td>0.974432</td>\n",
              "      <td>0.429420</td>\n",
              "      <td>0.369806</td>\n",
              "      <td>0.148876</td>\n",
              "    </tr>\n",
              "    <tr>\n",
              "      <th>total_adult_patients_hospitalized_confirmed_covid_SD</th>\n",
              "      <td>0.751012</td>\n",
              "      <td>0.745127</td>\n",
              "      <td>0.569335</td>\n",
              "      <td>0.138744</td>\n",
              "      <td>0.128561</td>\n",
              "      <td>0.141732</td>\n",
              "      <td>0.154884</td>\n",
              "      <td>0.721019</td>\n",
              "      <td>0.737241</td>\n",
              "      <td>0.336378</td>\n",
              "      <td>0.308380</td>\n",
              "      <td>0.298722</td>\n",
              "      <td>0.921940</td>\n",
              "      <td>0.787063</td>\n",
              "      <td>0.741398</td>\n",
              "      <td>0.912238</td>\n",
              "      <td>0.949709</td>\n",
              "      <td>0.974432</td>\n",
              "      <td>1.000000</td>\n",
              "      <td>0.382483</td>\n",
              "      <td>0.325396</td>\n",
              "      <td>0.132744</td>\n",
              "    </tr>\n",
              "    <tr>\n",
              "      <th>inpatient_beds_utilization_numerator_SD</th>\n",
              "      <td>0.417594</td>\n",
              "      <td>0.600422</td>\n",
              "      <td>0.747326</td>\n",
              "      <td>0.780055</td>\n",
              "      <td>0.754078</td>\n",
              "      <td>0.742615</td>\n",
              "      <td>0.448113</td>\n",
              "      <td>0.287769</td>\n",
              "      <td>0.295532</td>\n",
              "      <td>0.767221</td>\n",
              "      <td>0.975600</td>\n",
              "      <td>0.819556</td>\n",
              "      <td>0.348968</td>\n",
              "      <td>0.534426</td>\n",
              "      <td>0.423236</td>\n",
              "      <td>0.412053</td>\n",
              "      <td>0.401980</td>\n",
              "      <td>0.429420</td>\n",
              "      <td>0.382483</td>\n",
              "      <td>1.000000</td>\n",
              "      <td>0.981261</td>\n",
              "      <td>0.223190</td>\n",
              "    </tr>\n",
              "    <tr>\n",
              "      <th>inpatient_beds_utilization_denominator_SD</th>\n",
              "      <td>0.369978</td>\n",
              "      <td>0.545946</td>\n",
              "      <td>0.709058</td>\n",
              "      <td>0.800300</td>\n",
              "      <td>0.773246</td>\n",
              "      <td>0.761285</td>\n",
              "      <td>0.466850</td>\n",
              "      <td>0.245900</td>\n",
              "      <td>0.253024</td>\n",
              "      <td>0.816333</td>\n",
              "      <td>0.996978</td>\n",
              "      <td>0.865496</td>\n",
              "      <td>0.292226</td>\n",
              "      <td>0.474080</td>\n",
              "      <td>0.380590</td>\n",
              "      <td>0.354978</td>\n",
              "      <td>0.344894</td>\n",
              "      <td>0.369806</td>\n",
              "      <td>0.325396</td>\n",
              "      <td>0.981261</td>\n",
              "      <td>1.000000</td>\n",
              "      <td>0.199824</td>\n",
              "    </tr>\n",
              "    <tr>\n",
              "      <th>ToT_mobility</th>\n",
              "      <td>0.126169</td>\n",
              "      <td>0.204089</td>\n",
              "      <td>0.224586</td>\n",
              "      <td>0.136871</td>\n",
              "      <td>0.132271</td>\n",
              "      <td>0.128791</td>\n",
              "      <td>0.099780</td>\n",
              "      <td>0.116648</td>\n",
              "      <td>0.120080</td>\n",
              "      <td>0.174255</td>\n",
              "      <td>0.195107</td>\n",
              "      <td>0.180345</td>\n",
              "      <td>0.134749</td>\n",
              "      <td>0.187699</td>\n",
              "      <td>0.170905</td>\n",
              "      <td>0.147171</td>\n",
              "      <td>0.145020</td>\n",
              "      <td>0.148876</td>\n",
              "      <td>0.132744</td>\n",
              "      <td>0.223190</td>\n",
              "      <td>0.199824</td>\n",
              "      <td>1.000000</td>\n",
              "    </tr>\n",
              "  </tbody>\n",
              "</table>\n",
              "</div>"
            ],
            "text/plain": [
              "                                                    confirmed_cases  ...  ToT_mobility\n",
              "confirmed_cases                                            1.000000  ...      0.126169\n",
              "test_count                                                 0.720465  ...      0.204089\n",
              "new_test_count                                             0.546357  ...      0.224586\n",
              "C_TOT_POP                                                  0.214889  ...      0.136871\n",
              "C_M_Labour_Force_corr                                      0.212896  ...      0.132271\n",
              "C_M_Employed_corr                                          0.222713  ...      0.128791\n",
              "S_D_dly_new_test                                           0.181488  ...      0.099780\n",
              "critical_staffing_shortage_today_yes_SD                    0.589502  ...      0.116648\n",
              "critical_staffing_shortage_anticipated_within_w...         0.608145  ...      0.120080\n",
              "hospital_onset_covid_coverage_SD                           0.372644  ...      0.174255\n",
              "inpatient_beds_SD                                          0.355590  ...      0.195107\n",
              "inpatient_beds_coverage_SD                                 0.346727  ...      0.180345\n",
              "previous_day_admission_adult_covid_confirmed_SD            0.713359  ...      0.134749\n",
              "staffed_adult_icu_bed_occupancy_SD                         0.638045  ...      0.187699\n",
              "staffed_adult_icu_bed_occupancy_coverage_SD                0.622960  ...      0.170905\n",
              "staffed_icu_adult_patients_confirmed_and_suspec...         0.682872  ...      0.147171\n",
              "staffed_icu_adult_patients_confirmed_covid_SD              0.718045  ...      0.145020\n",
              "total_adult_patients_hospitalized_confirmed_and...         0.725016  ...      0.148876\n",
              "total_adult_patients_hospitalized_confirmed_cov...         0.751012  ...      0.132744\n",
              "inpatient_beds_utilization_numerator_SD                    0.417594  ...      0.223190\n",
              "inpatient_beds_utilization_denominator_SD                  0.369978  ...      0.199824\n",
              "ToT_mobility                                               0.126169  ...      1.000000\n",
              "\n",
              "[22 rows x 22 columns]"
            ]
          },
          "metadata": {
            "tags": []
          },
          "execution_count": 65
        }
      ]
    },
    {
      "cell_type": "markdown",
      "metadata": {
        "id": "zNjeewSKBDG7"
      },
      "source": [
        "## Regression Model Training and Testing"
      ]
    },
    {
      "cell_type": "code",
      "metadata": {
        "id": "RKQr_uqhuCCT"
      },
      "source": [
        "X_train, X_test, y_train, y_test =  train_test_split(X,Y,test_size = 0.2, random_state= 0)"
      ],
      "execution_count": null,
      "outputs": []
    },
    {
      "cell_type": "code",
      "metadata": {
        "id": "uAZcQ6kJ_dVf"
      },
      "source": [
        "from sklearn.preprocessing import StandardScaler\n",
        "sc_X = StandardScaler()\n",
        "X_train = sc_X.fit_transform(X_train)\n",
        "X_test = sc_X.transform(X_test)\n"
      ],
      "execution_count": null,
      "outputs": []
    },
    {
      "cell_type": "code",
      "metadata": {
        "id": "CHCqRJNu_sEq"
      },
      "source": [
        "from sklearn.linear_model import LinearRegression\n",
        "regressor = LinearRegression()\n",
        "regressor.fit(X_train, y_train)#predicting the test set results\n",
        "y_pred = regressor.predict(X_test)\n",
        "y_pred1 = regressor.predict(X_train)"
      ],
      "execution_count": null,
      "outputs": []
    },
    {
      "cell_type": "code",
      "metadata": {
        "id": "rLUXMKxrwEZe"
      },
      "source": [
        "y_pred = [0 if i < 0 else i for i in y_pred]"
      ],
      "execution_count": null,
      "outputs": []
    },
    {
      "cell_type": "markdown",
      "metadata": {
        "id": "p4AKVARFCJDj"
      },
      "source": [
        "### Checking for accuracy of the model using statistical metrics"
      ]
    },
    {
      "cell_type": "code",
      "metadata": {
        "colab": {
          "base_uri": "https://localhost:8080/"
        },
        "id": "IH7uhLTx_-jG",
        "outputId": "c94f0bae-f19b-47bd-90b2-054a3f684141"
      },
      "source": [
        "from sklearn.metrics import mean_squared_error\n",
        "mse = mean_squared_error(y_test, y_pred)\n",
        "print('The mean square error of cases and predict value is: ', mse)"
      ],
      "execution_count": null,
      "outputs": [
        {
          "output_type": "stream",
          "text": [
            "The mean square error of cases and predict value is:  41812.0709277742\n"
          ],
          "name": "stdout"
        }
      ]
    },
    {
      "cell_type": "code",
      "metadata": {
        "colab": {
          "base_uri": "https://localhost:8080/"
        },
        "id": "6p_FSQa_BW-o",
        "outputId": "9fd830de-a91c-42e2-85d1-92030a7b0f62"
      },
      "source": [
        "from sklearn.metrics import mean_absolute_error\n",
        "mae = mean_absolute_error(y_test, y_pred)\n",
        "print('The mean absolute error of cases and predicted value is: ', mae)"
      ],
      "execution_count": null,
      "outputs": [
        {
          "output_type": "stream",
          "text": [
            "The mean absolute error of cases and predicted value is:  112.76446140586276\n"
          ],
          "name": "stdout"
        }
      ]
    },
    {
      "cell_type": "code",
      "metadata": {
        "colab": {
          "base_uri": "https://localhost:8080/"
        },
        "id": "69oqI-Nptg3Q",
        "outputId": "a39338f2-ddf9-4de8-85c6-ec15c54b1409"
      },
      "source": [
        "mse1 = mean_squared_error(y_train, y_pred1)\n",
        "print('The mean square error of cases and predicted value is: ', mse1)"
      ],
      "execution_count": null,
      "outputs": [
        {
          "output_type": "stream",
          "text": [
            "The mean square error of cases and predicted value is:  42338.693201912734\n"
          ],
          "name": "stdout"
        }
      ]
    },
    {
      "cell_type": "code",
      "metadata": {
        "colab": {
          "base_uri": "https://localhost:8080/",
          "height": 708
        },
        "id": "8yXJ41qzCztm",
        "outputId": "ca1e81b7-c429-4a31-da66-86e7f13d4ea1"
      },
      "source": [
        "plt.figure(figsize=(10, 10))\n",
        "\n",
        "\n",
        "ax1 = sns.distplot(y_test, hist=False,  color=\"r\", label=\"Actual Value\")\n",
        "sns.distplot(y_pred, hist=False, color=\"b\", label=\"Fitted Values\" , ax=ax1)\n",
        "\n",
        "\n",
        "plt.title('Actual vs Fitted Values for Confirmed Cases')\n",
        "plt.xlabel('Confirmed Cases')\n",
        "plt.ylabel('Proportion of Cases')\n",
        "plt.show()\n",
        "plt.close()"
      ],
      "execution_count": null,
      "outputs": [
        {
          "output_type": "stream",
          "text": [
            "/usr/local/lib/python3.7/dist-packages/seaborn/distributions.py:2557: FutureWarning: `distplot` is a deprecated function and will be removed in a future version. Please adapt your code to use either `displot` (a figure-level function with similar flexibility) or `kdeplot` (an axes-level function for kernel density plots).\n",
            "  warnings.warn(msg, FutureWarning)\n",
            "/usr/local/lib/python3.7/dist-packages/seaborn/distributions.py:2557: FutureWarning: `distplot` is a deprecated function and will be removed in a future version. Please adapt your code to use either `displot` (a figure-level function with similar flexibility) or `kdeplot` (an axes-level function for kernel density plots).\n",
            "  warnings.warn(msg, FutureWarning)\n"
          ],
          "name": "stderr"
        },
        {
          "output_type": "display_data",
          "data": {
            "image/png": "[encoded data removed]",
            "text/plain": [
              "<Figure size 720x720 with 1 Axes>"
            ]
          },
          "metadata": {
            "tags": [],
            "needs_background": "light"
          }
        }
      ]
    },
    {
      "cell_type": "markdown",
      "metadata": {
        "id": "pXtVwLV4NaTb"
      },
      "source": [
        "**R-Square**"
      ]
    },
    {
      "cell_type": "code",
      "metadata": {
        "colab": {
          "base_uri": "https://localhost:8080/"
        },
        "id": "b_5qZNjQFQha",
        "outputId": "b6ad9e62-fcdf-4cfd-ebd4-7630806bcbdc"
      },
      "source": [
        "print('The R-square is: ', regressor.score(X_train, y_train))"
      ],
      "execution_count": null,
      "outputs": [
        {
          "output_type": "stream",
          "text": [
            "The R-square is:  0.6632809802755842\n"
          ],
          "name": "stdout"
        }
      ]
    },
    {
      "cell_type": "markdown",
      "metadata": {
        "id": "hlQPTrrJPnIR"
      },
      "source": [
        "**Final Features used in the model**"
      ]
    },
    {
      "cell_type": "code",
      "metadata": {
        "colab": {
          "base_uri": "https://localhost:8080/"
        },
        "id": "7VjUrv-WFAUK",
        "outputId": "3ae98a1d-3404-4209-bd98-4c0dd1aefd73"
      },
      "source": [
        "X.info()"
      ],
      "execution_count": null,
      "outputs": [
        {
          "output_type": "stream",
          "text": [
            "<class 'pandas.core.frame.DataFrame'>\n",
            "Int64Index: 597075 entries, 122657 to 1085024\n",
            "Data columns (total 12 columns):\n",
            " #   Column                                                              Non-Null Count   Dtype  \n",
            "---  ------                                                              --------------   -----  \n",
            " 0   test_count                                                          597075 non-null  float64\n",
            " 1   new_test_count                                                      597075 non-null  float64\n",
            " 2   critical_staffing_shortage_anticipated_within_week_yes_SD           597075 non-null  float64\n",
            " 3   inpatient_beds_coverage_SD                                          597075 non-null  float64\n",
            " 4   previous_day_admission_adult_covid_confirmed_SD                     597075 non-null  float64\n",
            " 5   staffed_adult_icu_bed_occupancy_SD                                  597075 non-null  float64\n",
            " 6   staffed_adult_icu_bed_occupancy_coverage_SD                         597075 non-null  float64\n",
            " 7   staffed_icu_adult_patients_confirmed_and_suspected_covid_SD         597075 non-null  float64\n",
            " 8   staffed_icu_adult_patients_confirmed_covid_SD                       597075 non-null  float64\n",
            " 9   total_adult_patients_hospitalized_confirmed_and_suspected_covid_SD  597075 non-null  float64\n",
            " 10  total_adult_patients_hospitalized_confirmed_covid_SD                597075 non-null  float64\n",
            " 11  inpatient_beds_utilization_numerator_SD                             597075 non-null  float64\n",
            "dtypes: float64(12)\n",
            "memory usage: 59.2 MB\n"
          ],
          "name": "stdout"
        }
      ]
    },
    {
      "cell_type": "code",
      "metadata": {
        "colab": {
          "base_uri": "https://localhost:8080/"
        },
        "id": "9JTH_SgFXEU2",
        "outputId": "fd7a337f-f7d9-40d6-f7af-43838e53131e"
      },
      "source": [
        "regressor.coef_"
      ],
      "execution_count": null,
      "outputs": [
        {
          "output_type": "execute_result",
          "data": {
            "text/plain": [
              "array([ 272.80659008, -140.44588558,   27.95104293,    4.94577156,\n",
              "         34.0930026 ,  -98.33857924,   10.56664017,   -1.31302342,\n",
              "         57.79377993,  -88.37001457,  166.57339763,   64.34553954])"
            ]
          },
          "metadata": {
            "tags": []
          },
          "execution_count": 76
        }
      ]
    },
    {
      "cell_type": "markdown",
      "metadata": {
        "id": "0UkY9BHyCY-q"
      },
      "source": [
        "# Validation Data Cleaning and Prediction"
      ]
    },
    {
      "cell_type": "markdown",
      "metadata": {
        "id": "-qTHoG7Xn07B"
      },
      "source": [
        "**Importing Validation Dataset from google drive**"
      ]
    },
    {
      "cell_type": "code",
      "metadata": {
        "colab": {
          "base_uri": "https://localhost:8080/"
        },
        "id": "RZAZbHVswOO0",
        "outputId": "f3b09d18-0e66-4fde-8882-fd6e3653b9a7"
      },
      "source": [
        "from google.colab import drive\n",
        "drive.mount('/content/drive')"
      ],
      "execution_count": null,
      "outputs": [
        {
          "output_type": "stream",
          "text": [
            "Drive already mounted at /content/drive; to attempt to forcibly remount, call drive.mount(\"/content/drive\", force_remount=True).\n"
          ],
          "name": "stdout"
        }
      ]
    },
    {
      "cell_type": "code",
      "metadata": {
        "colab": {
          "base_uri": "https://localhost:8080/"
        },
        "id": "xoWDt4jrwOCr",
        "outputId": "d933e451-8c4f-44aa-e0e3-df76e7bd5545"
      },
      "source": [
        "validation_df = pd.read_csv('/content/drive/MyDrive/DATA/EQ-2021-Validation-Data-Sample_1.csv', error_bad_lines=False)"
      ],
      "execution_count": null,
      "outputs": [
        {
          "output_type": "stream",
          "text": [
            "/usr/local/lib/python3.7/dist-packages/IPython/core/interactiveshell.py:2718: DtypeWarning: Columns (37,45,46) have mixed types.Specify dtype option on import or set low_memory=False.\n",
            "  interactivity=interactivity, compiler=compiler, result=result)\n"
          ],
          "name": "stderr"
        }
      ]
    },
    {
      "cell_type": "markdown",
      "metadata": {
        "id": "doxR94rluRRO"
      },
      "source": [
        "**Changing datatype into 'float64'**\n"
      ]
    },
    {
      "cell_type": "code",
      "metadata": {
        "id": "w4z4hjaopdbu",
        "colab": {
          "base_uri": "https://localhost:8080/"
        },
        "outputId": "5b7f1aa8-95a1-459c-d516-5afa8598502b"
      },
      "source": [
        "validation_df.iloc[:,31:35] = validation_df.iloc[:,31:35].astype('float64')\n",
        "validation_df.iloc[:,4] = validation_df.iloc[:,4].astype('float64')\n",
        "validation_df.iloc[:,45:47] = validation_df.iloc[:,45:47].apply(lambda col: pd.to_numeric(col, errors='coerce'))\n",
        "validation_df.iloc[:,37] = validation_df.iloc[:,37].apply(lambda col: pd.to_numeric(col, errors='coerce'))\n",
        "validation_df.iloc[:,45:47] = validation_df.iloc[:,45:47].astype('float64')\n",
        "validation_df.iloc[:,37] = validation_df.iloc[:,37].astype('float64')\n",
        "validation_df.info()"
      ],
      "execution_count": null,
      "outputs": [
        {
          "output_type": "stream",
          "text": [
            "<class 'pandas.core.frame.DataFrame'>\n",
            "RangeIndex: 47130 entries, 0 to 47129\n",
            "Data columns (total 80 columns):\n",
            " #   Column                                                                  Non-Null Count  Dtype  \n",
            "---  ------                                                                  --------------  -----  \n",
            " 0   countyFIPS                                                              47130 non-null  int64  \n",
            " 1   stateFIPS                                                               47130 non-null  int64  \n",
            " 2   date                                                                    47130 non-null  object \n",
            " 3   google_mobility_retail_and_recreation                                   24498 non-null  float64\n",
            " 4   google_mobility_grocery_and_pharmacy                                    21775 non-null  float64\n",
            " 5   google_mobility_parks                                                   11009 non-null  float64\n",
            " 6   google_mobility_transit_stations                                        14863 non-null  float64\n",
            " 7   google_mobility_workplaces                                              38154 non-null  float64\n",
            " 8   google_mobility_residential                                             23260 non-null  float64\n",
            " 9   apple_mobility_driving                                                  30420 non-null  float64\n",
            " 10  apple_mobility_transit                                                  2175 non-null   float64\n",
            " 11  apple_mobility_walking                                                  5715 non-null   float64\n",
            " 12  Electricity_Sales_Revenue_Residential($ x1000)                          47130 non-null  float64\n",
            " 13  Electricity_Sales_Sales_Residential(MWHr)                               47130 non-null  float64\n",
            " 14  Electricity_Sales_Customers_Count_Residential                           47130 non-null  int64  \n",
            " 15  Electricity_Sales_Revenue_Commercial($ x1000)                           47130 non-null  float64\n",
            " 16  Electricity_Sales_Sales_Commercial(MWHr)                                47130 non-null  float64\n",
            " 17  Electricity_Sales_Customers_Count_Commercial                            47130 non-null  int64  \n",
            " 18  Electricity_Sales_Revenue_Industrial($ x1000)                           47130 non-null  float64\n",
            " 19  Electricity_Sales_Sales_Industrial(MWHr)                                47130 non-null  float64\n",
            " 20  Electricity_Sales_Customers_Count_Industrial                            47130 non-null  int64  \n",
            " 21  Electricity_Sales_Revenue_Transportation ($ x1000)                      47130 non-null  float64\n",
            " 22  Electricity_Sales_Sales_Transportation(MWHr)                            47130 non-null  float64\n",
            " 23  Electricity_Sales_Customers_Count_Transportation                        47130 non-null  int64  \n",
            " 24  YoY_Reopened_Seated_Diner_Data                                          47130 non-null  float64\n",
            " 25  DOMESTIC_Air_Passengers                                                 47130 non-null  int64  \n",
            " 26  INTERNATIONAL_Air_Passengers                                            47130 non-null  int64  \n",
            " 27  DOMESTIC_Flights_Cnt                                                    47130 non-null  int64  \n",
            " 28  INTERNATIONAL_Flights_Cnt                                               47130 non-null  int64  \n",
            " 29  test_count                                                              47130 non-null  int64  \n",
            " 30  test_rate                                                               47130 non-null  int64  \n",
            " 31  new_test_rate                                                           47130 non-null  float64\n",
            " 32  new_test_count                                                          47130 non-null  float64\n",
            " 33  C_PCTPOVALL_2019                                                        37698 non-null  float64\n",
            " 34  C_PCTPOV017_2019                                                        37695 non-null  float64\n",
            " 35  C_PCTPOV517_2019                                                        37695 non-null  float64\n",
            " 36  C_MEDHHINC_2019                                                         37692 non-null  float64\n",
            " 37  C_TOT_POP                                                               46995 non-null  float64\n",
            " 38  C_TOT_MALE                                                              37596 non-null  float64\n",
            " 39  C_TOT_FEMALE                                                            37596 non-null  float64\n",
            " 40  C_WA_MALE                                                               37596 non-null  float64\n",
            " 41  C_WA_FEMALE                                                             37596 non-null  float64\n",
            " 42  C_MinorityPCT                                                           37596 non-null  float64\n",
            " 43  C_BlackPCT                                                              37596 non-null  float64\n",
            " 44  C_HispanicPCT                                                           37596 non-null  float64\n",
            " 45  C_M_Labour_Force_corr                                                   47116 non-null  float64\n",
            " 46  C_M_Employed_corr                                                       47116 non-null  float64\n",
            " 47  C_M_Unemployment_Rate_corr                                              37692 non-null  float64\n",
            " 48  S_D_dly_new_test                                                        47130 non-null  float64\n",
            " 49  S_D_cummulative_test                                                    37704 non-null  float64\n",
            " 50  initclaims_count_regular_cw                                             7533 non-null   float64\n",
            " 51  initclaims_rate_regular_cw                                              7533 non-null   float64\n",
            " 52  merchants_all_cd                                                        27379 non-null  float64\n",
            " 53  revenue_all_cd                                                          27379 non-null  float64\n",
            " 54  spend_all_cd                                                            24180 non-null  float64\n",
            " 55  critical_staffing_shortage_today_yes_SD                                 47130 non-null  int64  \n",
            " 56  critical_staffing_shortage_anticipated_within_week_yes_SD               47130 non-null  int64  \n",
            " 57  hospital_onset_covid_SD                                                 47130 non-null  int64  \n",
            " 58  hospital_onset_covid_coverage_SD                                        47130 non-null  int64  \n",
            " 59  inpatient_beds_SD                                                       47130 non-null  int64  \n",
            " 60  inpatient_beds_coverage_SD                                              47130 non-null  int64  \n",
            " 61  previous_day_admission_adult_covid_confirmed_SD                         47130 non-null  int64  \n",
            " 62  previous_day_admission_adult_covid_suspected_SD                         47130 non-null  int64  \n",
            " 63  previous_day_admission_pediatric_covid_confirmed_SD                     47130 non-null  int64  \n",
            " 64  previous_day_admission_pediatric_covid_suspected_SD                     47130 non-null  int64  \n",
            " 65  staffed_adult_icu_bed_occupancy_SD                                      47130 non-null  int64  \n",
            " 66  staffed_adult_icu_bed_occupancy_coverage_SD                             47130 non-null  int64  \n",
            " 67  staffed_icu_adult_patients_confirmed_and_suspected_covid_SD             47130 non-null  int64  \n",
            " 68  staffed_icu_adult_patients_confirmed_covid_SD                           47130 non-null  int64  \n",
            " 69  total_adult_patients_hospitalized_confirmed_and_suspected_covid_SD      47130 non-null  int64  \n",
            " 70  total_adult_patients_hospitalized_confirmed_covid_SD                    47130 non-null  int64  \n",
            " 71  total_pediatric_patients_hospitalized_confirmed_and_suspected_covid_SD  47130 non-null  int64  \n",
            " 72  total_pediatric_patients_hospitalized_confirmed_covid_SD                47130 non-null  int64  \n",
            " 73  inpatient_beds_utilization_SD                                           47130 non-null  float64\n",
            " 74  inpatient_beds_utilization_numerator_SD                                 47130 non-null  int64  \n",
            " 75  inpatient_beds_utilization_denominator_SD                               47130 non-null  int64  \n",
            " 76  percent_of_inpatients_with_covid_SD                                     47130 non-null  float64\n",
            " 77  inpatient_bed_covid_utilization_SD                                      47130 non-null  float64\n",
            " 78  adult_icu_bed_covid_utilization_SD                                      47130 non-null  float64\n",
            " 79  adult_icu_bed_utilization_SD                                            47130 non-null  float64\n",
            "dtypes: float64(47), int64(32), object(1)\n",
            "memory usage: 28.8+ MB\n"
          ],
          "name": "stdout"
        }
      ]
    },
    {
      "cell_type": "code",
      "metadata": {
        "id": "_0iGFYPSzKsW"
      },
      "source": [
        "validation_df.corr()"
      ],
      "execution_count": null,
      "outputs": []
    },
    {
      "cell_type": "markdown",
      "metadata": {
        "id": "EQARQkG6CvDs"
      },
      "source": [
        "### Removing variables of lesser relevance"
      ]
    },
    {
      "cell_type": "code",
      "metadata": {
        "id": "Yug6EEJrzKnc"
      },
      "source": [
        "validation_df.drop(validation_df.columns[[8,9,10,11,12,13,14,15,16,17,18,19,20,21,22,23,24,25,26,27,28,33,34,35,36,38,39,40,41,42,43,44,50,51,52,53,54]],axis=1, inplace=True)\n",
        "validation_df.info()"
      ],
      "execution_count": null,
      "outputs": []
    },
    {
      "cell_type": "markdown",
      "metadata": {
        "id": "_NLbHzuGuu9O"
      },
      "source": [
        "**Replacing misssing values**"
      ]
    },
    {
      "cell_type": "code",
      "metadata": {
        "id": "8nvK-5KxzKf-"
      },
      "source": [
        "validation_df = validation_df.fillna(validation_df.mean())"
      ],
      "execution_count": null,
      "outputs": []
    },
    {
      "cell_type": "code",
      "metadata": {
        "id": "OgPyrsp8BDVY"
      },
      "source": [
        "validation_df.head()"
      ],
      "execution_count": null,
      "outputs": []
    },
    {
      "cell_type": "markdown",
      "metadata": {
        "id": "qpEXhFRFC5Hj"
      },
      "source": [
        "## Combined Mobility"
      ]
    },
    {
      "cell_type": "code",
      "metadata": {
        "id": "GSRjTo5CBDTB"
      },
      "source": [
        "validation_df['ToT_mobility'] =validation_df.iloc[:,3:8].mean(axis=1)\n",
        "validation_df.info()"
      ],
      "execution_count": null,
      "outputs": []
    },
    {
      "cell_type": "markdown",
      "metadata": {
        "id": "RkMPZcWXC-HT"
      },
      "source": [
        "## Converting State data to County data according to Population Distribution"
      ]
    },
    {
      "cell_type": "code",
      "metadata": {
        "id": "Yq7LUJHYBDQQ"
      },
      "source": [
        "validation_df['S_TOT_POP'] = validation_df['C_TOT_POP'].groupby(validation_df['stateFIPS']).transform('sum')"
      ],
      "execution_count": null,
      "outputs": []
    },
    {
      "cell_type": "code",
      "metadata": {
        "id": "JssKv1bwBDN9"
      },
      "source": [
        "validation_df['ratio'] = validation_df['C_TOT_POP']/validation_df['S_TOT_POP']"
      ],
      "execution_count": null,
      "outputs": []
    },
    {
      "cell_type": "code",
      "metadata": {
        "id": "QZuucfuaEjmh"
      },
      "source": [
        "validation_df.info()"
      ],
      "execution_count": null,
      "outputs": []
    },
    {
      "cell_type": "code",
      "metadata": {
        "id": "2VaU9U8aBDLF"
      },
      "source": [
        "validation_df.iloc[:,16:43] = validation_df.iloc[:,16:43].mul(validation_df['ratio'],axis=0)"
      ],
      "execution_count": null,
      "outputs": []
    },
    {
      "cell_type": "code",
      "metadata": {
        "id": "8H_IaJfcEUb5"
      },
      "source": [
        "validation_df.iloc[:,8:12] = validation_df.iloc[:,8:12].mul(validation_df['ratio'],axis=0)\n",
        "validation_df.info()"
      ],
      "execution_count": null,
      "outputs": []
    },
    {
      "cell_type": "markdown",
      "metadata": {
        "id": "dVvDMovJDJll"
      },
      "source": [
        "## Removing Features Eliminated by BE Method"
      ]
    },
    {
      "cell_type": "code",
      "metadata": {
        "id": "_7347RLDEUaB"
      },
      "source": [
        "validation_df.drop(validation_df.columns[[3,4,5,6,7,9,10]],axis=1, inplace=True)\n"
      ],
      "execution_count": null,
      "outputs": []
    },
    {
      "cell_type": "markdown",
      "metadata": {
        "id": "Eq6XEq8FDYM1"
      },
      "source": [
        "## Prediction by Regression Model"
      ]
    },
    {
      "cell_type": "code",
      "metadata": {
        "id": "WszIdid-EUXx"
      },
      "source": [
        "X_valid = validation_df[X.columns]"
      ],
      "execution_count": null,
      "outputs": []
    },
    {
      "cell_type": "code",
      "metadata": {
        "id": "v6SMGfShK_Q3"
      },
      "source": [
        "from sklearn.preprocessing import StandardScaler\n",
        "sc_X = StandardScaler()\n",
        "X_valid = sc_X.fit_transform(X_valid)\n"
      ],
      "execution_count": null,
      "outputs": []
    },
    {
      "cell_type": "code",
      "metadata": {
        "id": "ip--e-8AF2PP"
      },
      "source": [
        "validation_df['Confirmed_cases'] = regressor.predict(X_valid)"
      ],
      "execution_count": null,
      "outputs": []
    },
    {
      "cell_type": "code",
      "metadata": {
        "id": "bOD8eXzrQIRr",
        "colab": {
          "base_uri": "https://localhost:8080/"
        },
        "outputId": "44e7aceb-aa50-4947-f3aa-9b8fd0b125d7"
      },
      "source": [
        "validation_df['Confirmed_cases'][validation_df['Confirmed_cases'] < 0] = 0"
      ],
      "execution_count": null,
      "outputs": [
        {
          "output_type": "stream",
          "text": [
            "/usr/local/lib/python3.7/dist-packages/ipykernel_launcher.py:1: SettingWithCopyWarning: \n",
            "A value is trying to be set on a copy of a slice from a DataFrame\n",
            "\n",
            "See the caveats in the documentation: https://pandas.pydata.org/pandas-docs/stable/user_guide/indexing.html#returning-a-view-versus-a-copy\n",
            "  \"\"\"Entry point for launching an IPython kernel.\n"
          ],
          "name": "stderr"
        }
      ]
    },
    {
      "cell_type": "code",
      "metadata": {
        "id": "xaBPeHMFS8-_",
        "colab": {
          "base_uri": "https://localhost:8080/",
          "height": 383
        },
        "outputId": "5a02ee92-386c-4118-8d5b-0c667ef3f7fe"
      },
      "source": [
        "validation_df.head()"
      ],
      "execution_count": null,
      "outputs": [
        {
          "output_type": "execute_result",
          "data": {
            "text/html": [
              "<div>\n",
              "<style scoped>\n",
              "    .dataframe tbody tr th:only-of-type {\n",
              "        vertical-align: middle;\n",
              "    }\n",
              "\n",
              "    .dataframe tbody tr th {\n",
              "        vertical-align: top;\n",
              "    }\n",
              "\n",
              "    .dataframe thead th {\n",
              "        text-align: right;\n",
              "    }\n",
              "</style>\n",
              "<table border=\"1\" class=\"dataframe\">\n",
              "  <thead>\n",
              "    <tr style=\"text-align: right;\">\n",
              "      <th></th>\n",
              "      <th>countyFIPS</th>\n",
              "      <th>stateFIPS</th>\n",
              "      <th>date</th>\n",
              "      <th>test_count</th>\n",
              "      <th>new_test_count</th>\n",
              "      <th>C_TOT_POP</th>\n",
              "      <th>C_M_Labour_Force_corr</th>\n",
              "      <th>C_M_Employed_corr</th>\n",
              "      <th>C_M_Unemployment_Rate_corr</th>\n",
              "      <th>S_D_dly_new_test</th>\n",
              "      <th>S_D_cummulative_test</th>\n",
              "      <th>critical_staffing_shortage_today_yes_SD</th>\n",
              "      <th>critical_staffing_shortage_anticipated_within_week_yes_SD</th>\n",
              "      <th>hospital_onset_covid_SD</th>\n",
              "      <th>hospital_onset_covid_coverage_SD</th>\n",
              "      <th>inpatient_beds_SD</th>\n",
              "      <th>inpatient_beds_coverage_SD</th>\n",
              "      <th>previous_day_admission_adult_covid_confirmed_SD</th>\n",
              "      <th>previous_day_admission_adult_covid_suspected_SD</th>\n",
              "      <th>previous_day_admission_pediatric_covid_confirmed_SD</th>\n",
              "      <th>previous_day_admission_pediatric_covid_suspected_SD</th>\n",
              "      <th>staffed_adult_icu_bed_occupancy_SD</th>\n",
              "      <th>staffed_adult_icu_bed_occupancy_coverage_SD</th>\n",
              "      <th>staffed_icu_adult_patients_confirmed_and_suspected_covid_SD</th>\n",
              "      <th>staffed_icu_adult_patients_confirmed_covid_SD</th>\n",
              "      <th>total_adult_patients_hospitalized_confirmed_and_suspected_covid_SD</th>\n",
              "      <th>total_adult_patients_hospitalized_confirmed_covid_SD</th>\n",
              "      <th>total_pediatric_patients_hospitalized_confirmed_and_suspected_covid_SD</th>\n",
              "      <th>total_pediatric_patients_hospitalized_confirmed_covid_SD</th>\n",
              "      <th>inpatient_beds_utilization_SD</th>\n",
              "      <th>inpatient_beds_utilization_numerator_SD</th>\n",
              "      <th>inpatient_beds_utilization_denominator_SD</th>\n",
              "      <th>percent_of_inpatients_with_covid_SD</th>\n",
              "      <th>inpatient_bed_covid_utilization_SD</th>\n",
              "      <th>adult_icu_bed_covid_utilization_SD</th>\n",
              "      <th>adult_icu_bed_utilization_SD</th>\n",
              "      <th>ToT_mobility</th>\n",
              "      <th>S_TOT_POP</th>\n",
              "      <th>ratio</th>\n",
              "      <th>Confirmed_cases</th>\n",
              "    </tr>\n",
              "  </thead>\n",
              "  <tbody>\n",
              "    <tr>\n",
              "      <th>0</th>\n",
              "      <td>1001</td>\n",
              "      <td>1</td>\n",
              "      <td>01-02-2021</td>\n",
              "      <td>1645.859832</td>\n",
              "      <td>5.856841</td>\n",
              "      <td>55514.0</td>\n",
              "      <td>25029.0</td>\n",
              "      <td>24237.0</td>\n",
              "      <td>3.2</td>\n",
              "      <td>7.134739</td>\n",
              "      <td>2787.076555</td>\n",
              "      <td>0.024560</td>\n",
              "      <td>0.026863</td>\n",
              "      <td>0.009978</td>\n",
              "      <td>0.081356</td>\n",
              "      <td>11.600859</td>\n",
              "      <td>0.084426</td>\n",
              "      <td>0.176526</td>\n",
              "      <td>0.064471</td>\n",
              "      <td>0.003838</td>\n",
              "      <td>0.006908</td>\n",
              "      <td>1.109814</td>\n",
              "      <td>0.084426</td>\n",
              "      <td>0.469714</td>\n",
              "      <td>0.457434</td>\n",
              "      <td>1.555735</td>\n",
              "      <td>1.448285</td>\n",
              "      <td>0.019955</td>\n",
              "      <td>0.012280</td>\n",
              "      <td>0.000572</td>\n",
              "      <td>8.643657</td>\n",
              "      <td>11.600859</td>\n",
              "      <td>0.000144</td>\n",
              "      <td>0.000107</td>\n",
              "      <td>0.000289</td>\n",
              "      <td>0.000668</td>\n",
              "      <td>-17.791997</td>\n",
              "      <td>72330345.0</td>\n",
              "      <td>0.000768</td>\n",
              "      <td>200.720422</td>\n",
              "    </tr>\n",
              "    <tr>\n",
              "      <th>1</th>\n",
              "      <td>1001</td>\n",
              "      <td>1</td>\n",
              "      <td>02-02-2021</td>\n",
              "      <td>1637.732707</td>\n",
              "      <td>3.932703</td>\n",
              "      <td>55514.0</td>\n",
              "      <td>25029.0</td>\n",
              "      <td>24237.0</td>\n",
              "      <td>3.2</td>\n",
              "      <td>11.969262</td>\n",
              "      <td>2799.045817</td>\n",
              "      <td>0.023793</td>\n",
              "      <td>0.026863</td>\n",
              "      <td>0.012280</td>\n",
              "      <td>0.080588</td>\n",
              "      <td>11.567856</td>\n",
              "      <td>0.083658</td>\n",
              "      <td>0.195714</td>\n",
              "      <td>0.099776</td>\n",
              "      <td>0.003838</td>\n",
              "      <td>0.003070</td>\n",
              "      <td>1.136677</td>\n",
              "      <td>0.083658</td>\n",
              "      <td>0.465876</td>\n",
              "      <td>0.452061</td>\n",
              "      <td>1.495102</td>\n",
              "      <td>1.429097</td>\n",
              "      <td>0.019955</td>\n",
              "      <td>0.013815</td>\n",
              "      <td>0.000587</td>\n",
              "      <td>8.853953</td>\n",
              "      <td>11.567856</td>\n",
              "      <td>0.000135</td>\n",
              "      <td>0.000104</td>\n",
              "      <td>0.000288</td>\n",
              "      <td>0.000687</td>\n",
              "      <td>-15.191997</td>\n",
              "      <td>72330345.0</td>\n",
              "      <td>0.000768</td>\n",
              "      <td>203.427075</td>\n",
              "    </tr>\n",
              "    <tr>\n",
              "      <th>2</th>\n",
              "      <td>1001</td>\n",
              "      <td>1</td>\n",
              "      <td>03-02-2021</td>\n",
              "      <td>1642.401448</td>\n",
              "      <td>3.715498</td>\n",
              "      <td>55514.0</td>\n",
              "      <td>25029.0</td>\n",
              "      <td>24237.0</td>\n",
              "      <td>3.2</td>\n",
              "      <td>11.812690</td>\n",
              "      <td>2810.858507</td>\n",
              "      <td>0.026095</td>\n",
              "      <td>0.026863</td>\n",
              "      <td>0.012280</td>\n",
              "      <td>0.088263</td>\n",
              "      <td>11.959284</td>\n",
              "      <td>0.089798</td>\n",
              "      <td>0.168084</td>\n",
              "      <td>0.087496</td>\n",
              "      <td>0.004605</td>\n",
              "      <td>0.006908</td>\n",
              "      <td>1.134374</td>\n",
              "      <td>0.089798</td>\n",
              "      <td>0.462806</td>\n",
              "      <td>0.441316</td>\n",
              "      <td>1.528873</td>\n",
              "      <td>1.405304</td>\n",
              "      <td>0.024560</td>\n",
              "      <td>0.018420</td>\n",
              "      <td>0.000603</td>\n",
              "      <td>9.398115</td>\n",
              "      <td>11.959284</td>\n",
              "      <td>0.000128</td>\n",
              "      <td>0.000101</td>\n",
              "      <td>0.000288</td>\n",
              "      <td>0.000689</td>\n",
              "      <td>-11.591997</td>\n",
              "      <td>72330345.0</td>\n",
              "      <td>0.000768</td>\n",
              "      <td>202.082441</td>\n",
              "    </tr>\n",
              "    <tr>\n",
              "      <th>3</th>\n",
              "      <td>1001</td>\n",
              "      <td>1</td>\n",
              "      <td>04-02-2021</td>\n",
              "      <td>1649.896148</td>\n",
              "      <td>3.622630</td>\n",
              "      <td>55514.0</td>\n",
              "      <td>25029.0</td>\n",
              "      <td>24237.0</td>\n",
              "      <td>3.2</td>\n",
              "      <td>13.059888</td>\n",
              "      <td>2823.918395</td>\n",
              "      <td>0.025328</td>\n",
              "      <td>0.026863</td>\n",
              "      <td>0.017653</td>\n",
              "      <td>0.086728</td>\n",
              "      <td>11.956214</td>\n",
              "      <td>0.089798</td>\n",
              "      <td>0.158106</td>\n",
              "      <td>0.095171</td>\n",
              "      <td>0.000768</td>\n",
              "      <td>0.005373</td>\n",
              "      <td>1.116722</td>\n",
              "      <td>0.089798</td>\n",
              "      <td>0.445154</td>\n",
              "      <td>0.424431</td>\n",
              "      <td>1.461332</td>\n",
              "      <td>1.340834</td>\n",
              "      <td>0.022258</td>\n",
              "      <td>0.015350</td>\n",
              "      <td>0.000594</td>\n",
              "      <td>9.257662</td>\n",
              "      <td>11.956214</td>\n",
              "      <td>0.000126</td>\n",
              "      <td>0.000098</td>\n",
              "      <td>0.000276</td>\n",
              "      <td>0.000677</td>\n",
              "      <td>-15.391997</td>\n",
              "      <td>72330345.0</td>\n",
              "      <td>0.000768</td>\n",
              "      <td>200.454107</td>\n",
              "    </tr>\n",
              "    <tr>\n",
              "      <th>4</th>\n",
              "      <td>1001</td>\n",
              "      <td>1</td>\n",
              "      <td>05-02-2021</td>\n",
              "      <td>1649.896148</td>\n",
              "      <td>2.453718</td>\n",
              "      <td>55514.0</td>\n",
              "      <td>25029.0</td>\n",
              "      <td>24237.0</td>\n",
              "      <td>3.2</td>\n",
              "      <td>11.329929</td>\n",
              "      <td>2835.248324</td>\n",
              "      <td>0.025328</td>\n",
              "      <td>0.026095</td>\n",
              "      <td>0.011513</td>\n",
              "      <td>0.086728</td>\n",
              "      <td>11.904024</td>\n",
              "      <td>0.089798</td>\n",
              "      <td>0.181132</td>\n",
              "      <td>0.076751</td>\n",
              "      <td>0.004605</td>\n",
              "      <td>0.010745</td>\n",
              "      <td>1.101372</td>\n",
              "      <td>0.089798</td>\n",
              "      <td>0.411383</td>\n",
              "      <td>0.398336</td>\n",
              "      <td>1.442144</td>\n",
              "      <td>1.335461</td>\n",
              "      <td>0.022258</td>\n",
              "      <td>0.016118</td>\n",
              "      <td>0.000595</td>\n",
              "      <td>9.227729</td>\n",
              "      <td>11.904024</td>\n",
              "      <td>0.000125</td>\n",
              "      <td>0.000097</td>\n",
              "      <td>0.000258</td>\n",
              "      <td>0.000675</td>\n",
              "      <td>-16.991997</td>\n",
              "      <td>72330345.0</td>\n",
              "      <td>0.000768</td>\n",
              "      <td>202.109600</td>\n",
              "    </tr>\n",
              "  </tbody>\n",
              "</table>\n",
              "</div>"
            ],
            "text/plain": [
              "   countyFIPS  stateFIPS        date  ...   S_TOT_POP     ratio  Confirmed_cases\n",
              "0        1001          1  01-02-2021  ...  72330345.0  0.000768       200.720422\n",
              "1        1001          1  02-02-2021  ...  72330345.0  0.000768       203.427075\n",
              "2        1001          1  03-02-2021  ...  72330345.0  0.000768       202.082441\n",
              "3        1001          1  04-02-2021  ...  72330345.0  0.000768       200.454107\n",
              "4        1001          1  05-02-2021  ...  72330345.0  0.000768       202.109600\n",
              "\n",
              "[5 rows x 40 columns]"
            ]
          },
          "metadata": {
            "tags": []
          },
          "execution_count": 95
        }
      ]
    },
    {
      "cell_type": "code",
      "metadata": {
        "id": "3HztJ6a6EURS",
        "colab": {
          "base_uri": "https://localhost:8080/",
          "height": 304
        },
        "outputId": "b08bf87e-14d6-4d16-98cc-4c023c7e5730"
      },
      "source": [
        "df1.describe()"
      ],
      "execution_count": null,
      "outputs": [
        {
          "output_type": "execute_result",
          "data": {
            "text/html": [
              "<div>\n",
              "<style scoped>\n",
              "    .dataframe tbody tr th:only-of-type {\n",
              "        vertical-align: middle;\n",
              "    }\n",
              "\n",
              "    .dataframe tbody tr th {\n",
              "        vertical-align: top;\n",
              "    }\n",
              "\n",
              "    .dataframe thead th {\n",
              "        text-align: right;\n",
              "    }\n",
              "</style>\n",
              "<table border=\"1\" class=\"dataframe\">\n",
              "  <thead>\n",
              "    <tr style=\"text-align: right;\">\n",
              "      <th></th>\n",
              "      <th>confirmed_cases</th>\n",
              "      <th>test_count</th>\n",
              "      <th>new_test_count</th>\n",
              "      <th>C_TOT_POP</th>\n",
              "      <th>C_M_Labour_Force_corr</th>\n",
              "      <th>C_M_Employed_corr</th>\n",
              "      <th>S_D_dly_new_test</th>\n",
              "      <th>critical_staffing_shortage_today_yes_SD</th>\n",
              "      <th>critical_staffing_shortage_anticipated_within_week_yes_SD</th>\n",
              "      <th>hospital_onset_covid_coverage_SD</th>\n",
              "      <th>inpatient_beds_SD</th>\n",
              "      <th>inpatient_beds_coverage_SD</th>\n",
              "      <th>previous_day_admission_adult_covid_confirmed_SD</th>\n",
              "      <th>staffed_adult_icu_bed_occupancy_SD</th>\n",
              "      <th>staffed_adult_icu_bed_occupancy_coverage_SD</th>\n",
              "      <th>staffed_icu_adult_patients_confirmed_and_suspected_covid_SD</th>\n",
              "      <th>staffed_icu_adult_patients_confirmed_covid_SD</th>\n",
              "      <th>total_adult_patients_hospitalized_confirmed_and_suspected_covid_SD</th>\n",
              "      <th>total_adult_patients_hospitalized_confirmed_covid_SD</th>\n",
              "      <th>inpatient_beds_utilization_numerator_SD</th>\n",
              "      <th>inpatient_beds_utilization_denominator_SD</th>\n",
              "      <th>ToT_mobility</th>\n",
              "    </tr>\n",
              "  </thead>\n",
              "  <tbody>\n",
              "    <tr>\n",
              "      <th>count</th>\n",
              "      <td>597075.000000</td>\n",
              "      <td>597075.000000</td>\n",
              "      <td>597075.000000</td>\n",
              "      <td>597075.000000</td>\n",
              "      <td>597075.000000</td>\n",
              "      <td>597075.000000</td>\n",
              "      <td>597075.000000</td>\n",
              "      <td>597075.000000</td>\n",
              "      <td>597075.000000</td>\n",
              "      <td>597075.000000</td>\n",
              "      <td>5.970750e+05</td>\n",
              "      <td>5.970750e+05</td>\n",
              "      <td>597075.000000</td>\n",
              "      <td>597075.000000</td>\n",
              "      <td>597075.000000</td>\n",
              "      <td>597075.000000</td>\n",
              "      <td>597075.000000</td>\n",
              "      <td>597075.000000</td>\n",
              "      <td>597075.000000</td>\n",
              "      <td>597075.000000</td>\n",
              "      <td>597075.000000</td>\n",
              "      <td>597075.000000</td>\n",
              "    </tr>\n",
              "    <tr>\n",
              "      <th>mean</th>\n",
              "      <td>227.932220</td>\n",
              "      <td>11.662391</td>\n",
              "      <td>0.131533</td>\n",
              "      <td>20824.195659</td>\n",
              "      <td>9376.649064</td>\n",
              "      <td>8635.691288</td>\n",
              "      <td>0.230989</td>\n",
              "      <td>0.000106</td>\n",
              "      <td>0.000127</td>\n",
              "      <td>0.001143</td>\n",
              "      <td>1.397517e-01</td>\n",
              "      <td>1.243407e-03</td>\n",
              "      <td>0.000673</td>\n",
              "      <td>0.005596</td>\n",
              "      <td>0.000614</td>\n",
              "      <td>0.001516</td>\n",
              "      <td>0.001345</td>\n",
              "      <td>0.005770</td>\n",
              "      <td>0.004746</td>\n",
              "      <td>0.087254</td>\n",
              "      <td>0.136057</td>\n",
              "      <td>-3.068443</td>\n",
              "    </tr>\n",
              "    <tr>\n",
              "      <th>std</th>\n",
              "      <td>354.312404</td>\n",
              "      <td>15.333470</td>\n",
              "      <td>0.154649</td>\n",
              "      <td>20358.086993</td>\n",
              "      <td>9674.603378</td>\n",
              "      <td>8795.297806</td>\n",
              "      <td>0.257529</td>\n",
              "      <td>0.000164</td>\n",
              "      <td>0.000193</td>\n",
              "      <td>0.001042</td>\n",
              "      <td>1.374335e-01</td>\n",
              "      <td>1.126753e-03</td>\n",
              "      <td>0.001031</td>\n",
              "      <td>0.008343</td>\n",
              "      <td>0.000850</td>\n",
              "      <td>0.002257</td>\n",
              "      <td>0.002004</td>\n",
              "      <td>0.008389</td>\n",
              "      <td>0.007123</td>\n",
              "      <td>0.088460</td>\n",
              "      <td>0.134096</td>\n",
              "      <td>3.042273</td>\n",
              "    </tr>\n",
              "    <tr>\n",
              "      <th>min</th>\n",
              "      <td>0.000000</td>\n",
              "      <td>0.000000</td>\n",
              "      <td>0.000000</td>\n",
              "      <td>71.000000</td>\n",
              "      <td>171.000000</td>\n",
              "      <td>161.000000</td>\n",
              "      <td>0.000000</td>\n",
              "      <td>0.000000</td>\n",
              "      <td>0.000000</td>\n",
              "      <td>0.000000</td>\n",
              "      <td>4.312587e-07</td>\n",
              "      <td>8.903808e-08</td>\n",
              "      <td>0.000000</td>\n",
              "      <td>0.000000</td>\n",
              "      <td>0.000000</td>\n",
              "      <td>0.000000</td>\n",
              "      <td>0.000000</td>\n",
              "      <td>0.000000</td>\n",
              "      <td>0.000000</td>\n",
              "      <td>0.000000</td>\n",
              "      <td>0.000000</td>\n",
              "      <td>-12.166811</td>\n",
              "    </tr>\n",
              "    <tr>\n",
              "      <th>25%</th>\n",
              "      <td>7.000000</td>\n",
              "      <td>1.219388</td>\n",
              "      <td>0.025547</td>\n",
              "      <td>7505.000000</td>\n",
              "      <td>3171.000000</td>\n",
              "      <td>2946.000000</td>\n",
              "      <td>0.059308</td>\n",
              "      <td>0.000000</td>\n",
              "      <td>0.000000</td>\n",
              "      <td>0.000404</td>\n",
              "      <td>4.308735e-02</td>\n",
              "      <td>4.416263e-04</td>\n",
              "      <td>0.000000</td>\n",
              "      <td>0.000000</td>\n",
              "      <td>0.000000</td>\n",
              "      <td>0.000000</td>\n",
              "      <td>0.000000</td>\n",
              "      <td>0.000000</td>\n",
              "      <td>0.000000</td>\n",
              "      <td>0.024215</td>\n",
              "      <td>0.041139</td>\n",
              "      <td>-3.829980</td>\n",
              "    </tr>\n",
              "    <tr>\n",
              "      <th>50%</th>\n",
              "      <td>65.000000</td>\n",
              "      <td>5.649336</td>\n",
              "      <td>0.077024</td>\n",
              "      <td>14827.000000</td>\n",
              "      <td>6316.000000</td>\n",
              "      <td>5845.000000</td>\n",
              "      <td>0.150844</td>\n",
              "      <td>0.000016</td>\n",
              "      <td>0.000027</td>\n",
              "      <td>0.000872</td>\n",
              "      <td>1.005997e-01</td>\n",
              "      <td>9.500894e-04</td>\n",
              "      <td>0.000130</td>\n",
              "      <td>0.000986</td>\n",
              "      <td>0.000163</td>\n",
              "      <td>0.000234</td>\n",
              "      <td>0.000258</td>\n",
              "      <td>0.001288</td>\n",
              "      <td>0.001000</td>\n",
              "      <td>0.061284</td>\n",
              "      <td>0.097807</td>\n",
              "      <td>-3.829980</td>\n",
              "    </tr>\n",
              "    <tr>\n",
              "      <th>75%</th>\n",
              "      <td>295.000000</td>\n",
              "      <td>15.995221</td>\n",
              "      <td>0.178520</td>\n",
              "      <td>26347.000000</td>\n",
              "      <td>11721.000000</td>\n",
              "      <td>10843.000000</td>\n",
              "      <td>0.297959</td>\n",
              "      <td>0.000155</td>\n",
              "      <td>0.000189</td>\n",
              "      <td>0.001558</td>\n",
              "      <td>1.888040e-01</td>\n",
              "      <td>1.696143e-03</td>\n",
              "      <td>0.000995</td>\n",
              "      <td>0.008730</td>\n",
              "      <td>0.001016</td>\n",
              "      <td>0.002382</td>\n",
              "      <td>0.002082</td>\n",
              "      <td>0.009107</td>\n",
              "      <td>0.007185</td>\n",
              "      <td>0.120830</td>\n",
              "      <td>0.185192</td>\n",
              "      <td>-1.954963</td>\n",
              "    </tr>\n",
              "    <tr>\n",
              "      <th>max</th>\n",
              "      <td>2064.000000</td>\n",
              "      <td>101.451233</td>\n",
              "      <td>1.115644</td>\n",
              "      <td>152218.000000</td>\n",
              "      <td>71299.000000</td>\n",
              "      <td>66117.000000</td>\n",
              "      <td>1.714492</td>\n",
              "      <td>0.000820</td>\n",
              "      <td>0.000992</td>\n",
              "      <td>0.007867</td>\n",
              "      <td>1.008289e+00</td>\n",
              "      <td>8.482987e-03</td>\n",
              "      <td>0.005718</td>\n",
              "      <td>0.048991</td>\n",
              "      <td>0.005215</td>\n",
              "      <td>0.012935</td>\n",
              "      <td>0.011394</td>\n",
              "      <td>0.049709</td>\n",
              "      <td>0.040580</td>\n",
              "      <td>0.657253</td>\n",
              "      <td>0.988907</td>\n",
              "      <td>6.238831</td>\n",
              "    </tr>\n",
              "  </tbody>\n",
              "</table>\n",
              "</div>"
            ],
            "text/plain": [
              "       confirmed_cases  ...   ToT_mobility\n",
              "count    597075.000000  ...  597075.000000\n",
              "mean        227.932220  ...      -3.068443\n",
              "std         354.312404  ...       3.042273\n",
              "min           0.000000  ...     -12.166811\n",
              "25%           7.000000  ...      -3.829980\n",
              "50%          65.000000  ...      -3.829980\n",
              "75%         295.000000  ...      -1.954963\n",
              "max        2064.000000  ...       6.238831\n",
              "\n",
              "[8 rows x 22 columns]"
            ]
          },
          "metadata": {
            "tags": []
          },
          "execution_count": 96
        }
      ]
    },
    {
      "cell_type": "code",
      "metadata": {
        "id": "kaXomiPMEUPX",
        "colab": {
          "base_uri": "https://localhost:8080/",
          "height": 304
        },
        "outputId": "cb71b8b0-b078-4f15-a927-87e6878a7db0"
      },
      "source": [
        "validation_df.describe()"
      ],
      "execution_count": null,
      "outputs": [
        {
          "output_type": "execute_result",
          "data": {
            "text/html": [
              "<div>\n",
              "<style scoped>\n",
              "    .dataframe tbody tr th:only-of-type {\n",
              "        vertical-align: middle;\n",
              "    }\n",
              "\n",
              "    .dataframe tbody tr th {\n",
              "        vertical-align: top;\n",
              "    }\n",
              "\n",
              "    .dataframe thead th {\n",
              "        text-align: right;\n",
              "    }\n",
              "</style>\n",
              "<table border=\"1\" class=\"dataframe\">\n",
              "  <thead>\n",
              "    <tr style=\"text-align: right;\">\n",
              "      <th></th>\n",
              "      <th>countyFIPS</th>\n",
              "      <th>stateFIPS</th>\n",
              "      <th>test_count</th>\n",
              "      <th>new_test_count</th>\n",
              "      <th>C_TOT_POP</th>\n",
              "      <th>C_M_Labour_Force_corr</th>\n",
              "      <th>C_M_Employed_corr</th>\n",
              "      <th>C_M_Unemployment_Rate_corr</th>\n",
              "      <th>S_D_dly_new_test</th>\n",
              "      <th>S_D_cummulative_test</th>\n",
              "      <th>critical_staffing_shortage_today_yes_SD</th>\n",
              "      <th>critical_staffing_shortage_anticipated_within_week_yes_SD</th>\n",
              "      <th>hospital_onset_covid_SD</th>\n",
              "      <th>hospital_onset_covid_coverage_SD</th>\n",
              "      <th>inpatient_beds_SD</th>\n",
              "      <th>inpatient_beds_coverage_SD</th>\n",
              "      <th>previous_day_admission_adult_covid_confirmed_SD</th>\n",
              "      <th>previous_day_admission_adult_covid_suspected_SD</th>\n",
              "      <th>previous_day_admission_pediatric_covid_confirmed_SD</th>\n",
              "      <th>previous_day_admission_pediatric_covid_suspected_SD</th>\n",
              "      <th>staffed_adult_icu_bed_occupancy_SD</th>\n",
              "      <th>staffed_adult_icu_bed_occupancy_coverage_SD</th>\n",
              "      <th>staffed_icu_adult_patients_confirmed_and_suspected_covid_SD</th>\n",
              "      <th>staffed_icu_adult_patients_confirmed_covid_SD</th>\n",
              "      <th>total_adult_patients_hospitalized_confirmed_and_suspected_covid_SD</th>\n",
              "      <th>total_adult_patients_hospitalized_confirmed_covid_SD</th>\n",
              "      <th>total_pediatric_patients_hospitalized_confirmed_and_suspected_covid_SD</th>\n",
              "      <th>total_pediatric_patients_hospitalized_confirmed_covid_SD</th>\n",
              "      <th>inpatient_beds_utilization_SD</th>\n",
              "      <th>inpatient_beds_utilization_numerator_SD</th>\n",
              "      <th>inpatient_beds_utilization_denominator_SD</th>\n",
              "      <th>percent_of_inpatients_with_covid_SD</th>\n",
              "      <th>inpatient_bed_covid_utilization_SD</th>\n",
              "      <th>adult_icu_bed_covid_utilization_SD</th>\n",
              "      <th>adult_icu_bed_utilization_SD</th>\n",
              "      <th>ToT_mobility</th>\n",
              "      <th>S_TOT_POP</th>\n",
              "      <th>ratio</th>\n",
              "      <th>Confirmed_cases</th>\n",
              "    </tr>\n",
              "  </thead>\n",
              "  <tbody>\n",
              "    <tr>\n",
              "      <th>count</th>\n",
              "      <td>47130.000000</td>\n",
              "      <td>47130.000000</td>\n",
              "      <td>47130.000000</td>\n",
              "      <td>47130.000000</td>\n",
              "      <td>4.713000e+04</td>\n",
              "      <td>4.713000e+04</td>\n",
              "      <td>4.713000e+04</td>\n",
              "      <td>47130.000000</td>\n",
              "      <td>47130.000000</td>\n",
              "      <td>47130.000000</td>\n",
              "      <td>47130.000000</td>\n",
              "      <td>47130.000000</td>\n",
              "      <td>47130.000000</td>\n",
              "      <td>47130.000000</td>\n",
              "      <td>47130.000000</td>\n",
              "      <td>47130.000000</td>\n",
              "      <td>47130.000000</td>\n",
              "      <td>47130.000000</td>\n",
              "      <td>47130.000000</td>\n",
              "      <td>47130.000000</td>\n",
              "      <td>47130.000000</td>\n",
              "      <td>47130.000000</td>\n",
              "      <td>47130.000000</td>\n",
              "      <td>47130.000000</td>\n",
              "      <td>47130.000000</td>\n",
              "      <td>47130.000000</td>\n",
              "      <td>47130.000000</td>\n",
              "      <td>47130.000000</td>\n",
              "      <td>4.713000e+04</td>\n",
              "      <td>47130.000000</td>\n",
              "      <td>47130.000000</td>\n",
              "      <td>4.713000e+04</td>\n",
              "      <td>4.713000e+04</td>\n",
              "      <td>4.713000e+04</td>\n",
              "      <td>4.713000e+04</td>\n",
              "      <td>47130.000000</td>\n",
              "      <td>4.713000e+04</td>\n",
              "      <td>4.713000e+04</td>\n",
              "      <td>47130.000000</td>\n",
              "    </tr>\n",
              "    <tr>\n",
              "      <th>mean</th>\n",
              "      <td>30383.649268</td>\n",
              "      <td>30.280076</td>\n",
              "      <td>6877.218379</td>\n",
              "      <td>35.527080</td>\n",
              "      <td>9.933667e+04</td>\n",
              "      <td>5.094338e+04</td>\n",
              "      <td>4.763123e+04</td>\n",
              "      <td>5.475103</td>\n",
              "      <td>29.458731</td>\n",
              "      <td>6867.306360</td>\n",
              "      <td>0.017959</td>\n",
              "      <td>0.021816</td>\n",
              "      <td>0.032280</td>\n",
              "      <td>0.123439</td>\n",
              "      <td>16.553455</td>\n",
              "      <td>0.126812</td>\n",
              "      <td>0.180562</td>\n",
              "      <td>0.123000</td>\n",
              "      <td>0.003782</td>\n",
              "      <td>0.010320</td>\n",
              "      <td>1.391128</td>\n",
              "      <td>0.126797</td>\n",
              "      <td>0.421779</td>\n",
              "      <td>0.404915</td>\n",
              "      <td>1.741914</td>\n",
              "      <td>1.591879</td>\n",
              "      <td>0.029100</td>\n",
              "      <td>0.017455</td>\n",
              "      <td>7.509315e-04</td>\n",
              "      <td>11.942757</td>\n",
              "      <td>16.537711</td>\n",
              "      <td>1.298041e-04</td>\n",
              "      <td>9.240326e-05</td>\n",
              "      <td>2.010644e-04</td>\n",
              "      <td>7.565110e-04</td>\n",
              "      <td>-18.967800</td>\n",
              "      <td>1.261541e+08</td>\n",
              "      <td>1.082113e-03</td>\n",
              "      <td>228.035919</td>\n",
              "    </tr>\n",
              "    <tr>\n",
              "      <th>std</th>\n",
              "      <td>15160.256142</td>\n",
              "      <td>15.142090</td>\n",
              "      <td>24820.561192</td>\n",
              "      <td>139.683770</td>\n",
              "      <td>3.164394e+05</td>\n",
              "      <td>1.657492e+05</td>\n",
              "      <td>1.519432e+05</td>\n",
              "      <td>1.892561</td>\n",
              "      <td>112.772380</td>\n",
              "      <td>22400.851283</td>\n",
              "      <td>0.069663</td>\n",
              "      <td>0.081817</td>\n",
              "      <td>0.135033</td>\n",
              "      <td>0.320978</td>\n",
              "      <td>48.088832</td>\n",
              "      <td>0.327750</td>\n",
              "      <td>0.637783</td>\n",
              "      <td>0.438503</td>\n",
              "      <td>0.014355</td>\n",
              "      <td>0.040228</td>\n",
              "      <td>4.334009</td>\n",
              "      <td>0.327653</td>\n",
              "      <td>1.690245</td>\n",
              "      <td>1.641305</td>\n",
              "      <td>6.668806</td>\n",
              "      <td>6.200953</td>\n",
              "      <td>0.108781</td>\n",
              "      <td>0.070968</td>\n",
              "      <td>2.153926e-03</td>\n",
              "      <td>35.643329</td>\n",
              "      <td>48.073627</td>\n",
              "      <td>3.883402e-04</td>\n",
              "      <td>2.922627e-04</td>\n",
              "      <td>6.195157e-04</td>\n",
              "      <td>2.136606e-03</td>\n",
              "      <td>7.865848</td>\n",
              "      <td>1.183219e+08</td>\n",
              "      <td>2.940205e-03</td>\n",
              "      <td>297.760148</td>\n",
              "    </tr>\n",
              "    <tr>\n",
              "      <th>min</th>\n",
              "      <td>1001.000000</td>\n",
              "      <td>1.000000</td>\n",
              "      <td>3.179451</td>\n",
              "      <td>0.007619</td>\n",
              "      <td>7.100000e+01</td>\n",
              "      <td>0.000000e+00</td>\n",
              "      <td>0.000000e+00</td>\n",
              "      <td>0.400000</td>\n",
              "      <td>0.009959</td>\n",
              "      <td>1.363337</td>\n",
              "      <td>0.000000</td>\n",
              "      <td>0.000000</td>\n",
              "      <td>0.000000</td>\n",
              "      <td>0.000103</td>\n",
              "      <td>0.010683</td>\n",
              "      <td>0.000103</td>\n",
              "      <td>0.000004</td>\n",
              "      <td>0.000000</td>\n",
              "      <td>0.000000</td>\n",
              "      <td>0.000000</td>\n",
              "      <td>0.000577</td>\n",
              "      <td>0.000103</td>\n",
              "      <td>0.000073</td>\n",
              "      <td>0.000069</td>\n",
              "      <td>0.000211</td>\n",
              "      <td>0.000181</td>\n",
              "      <td>0.000000</td>\n",
              "      <td>0.000000</td>\n",
              "      <td>1.240955e-07</td>\n",
              "      <td>0.007330</td>\n",
              "      <td>0.010683</td>\n",
              "      <td>3.235399e-08</td>\n",
              "      <td>2.245534e-08</td>\n",
              "      <td>5.731502e-08</td>\n",
              "      <td>1.454469e-07</td>\n",
              "      <td>-84.800000</td>\n",
              "      <td>8.646180e+06</td>\n",
              "      <td>1.816377e-07</td>\n",
              "      <td>141.487526</td>\n",
              "    </tr>\n",
              "    <tr>\n",
              "      <th>25%</th>\n",
              "      <td>18177.000000</td>\n",
              "      <td>18.000000</td>\n",
              "      <td>586.782239</td>\n",
              "      <td>2.294179</td>\n",
              "      <td>1.113400e+04</td>\n",
              "      <td>4.781000e+03</td>\n",
              "      <td>4.526000e+03</td>\n",
              "      <td>4.300000</td>\n",
              "      <td>1.996192</td>\n",
              "      <td>645.763472</td>\n",
              "      <td>0.001480</td>\n",
              "      <td>0.002031</td>\n",
              "      <td>0.001420</td>\n",
              "      <td>0.018934</td>\n",
              "      <td>1.952202</td>\n",
              "      <td>0.019492</td>\n",
              "      <td>0.014984</td>\n",
              "      <td>0.009340</td>\n",
              "      <td>0.000119</td>\n",
              "      <td>0.000499</td>\n",
              "      <td>0.149377</td>\n",
              "      <td>0.019492</td>\n",
              "      <td>0.034164</td>\n",
              "      <td>0.032042</td>\n",
              "      <td>0.140852</td>\n",
              "      <td>0.124694</td>\n",
              "      <td>0.002061</td>\n",
              "      <td>0.001083</td>\n",
              "      <td>9.842206e-05</td>\n",
              "      <td>1.318044</td>\n",
              "      <td>1.952202</td>\n",
              "      <td>1.637750e-05</td>\n",
              "      <td>1.101151e-05</td>\n",
              "      <td>2.394256e-05</td>\n",
              "      <td>1.025572e-04</td>\n",
              "      <td>-20.000000</td>\n",
              "      <td>4.477389e+07</td>\n",
              "      <td>1.433408e-04</td>\n",
              "      <td>150.620539</td>\n",
              "    </tr>\n",
              "    <tr>\n",
              "      <th>50%</th>\n",
              "      <td>29176.000000</td>\n",
              "      <td>29.000000</td>\n",
              "      <td>1494.811507</td>\n",
              "      <td>6.421678</td>\n",
              "      <td>2.596550e+04</td>\n",
              "      <td>1.143700e+04</td>\n",
              "      <td>1.082800e+04</td>\n",
              "      <td>5.475103</td>\n",
              "      <td>5.327746</td>\n",
              "      <td>1593.627346</td>\n",
              "      <td>0.004648</td>\n",
              "      <td>0.005793</td>\n",
              "      <td>0.004706</td>\n",
              "      <td>0.040403</td>\n",
              "      <td>4.498001</td>\n",
              "      <td>0.041626</td>\n",
              "      <td>0.041119</td>\n",
              "      <td>0.027691</td>\n",
              "      <td>0.000676</td>\n",
              "      <td>0.001975</td>\n",
              "      <td>0.372966</td>\n",
              "      <td>0.041613</td>\n",
              "      <td>0.094420</td>\n",
              "      <td>0.088847</td>\n",
              "      <td>0.371699</td>\n",
              "      <td>0.333923</td>\n",
              "      <td>0.005900</td>\n",
              "      <td>0.003408</td>\n",
              "      <td>2.163928e-04</td>\n",
              "      <td>3.117027</td>\n",
              "      <td>4.486342</td>\n",
              "      <td>3.674448e-05</td>\n",
              "      <td>2.517619e-05</td>\n",
              "      <td>5.488465e-05</td>\n",
              "      <td>2.234880e-04</td>\n",
              "      <td>-18.676438</td>\n",
              "      <td>8.826844e+07</td>\n",
              "      <td>3.193192e-04</td>\n",
              "      <td>162.903699</td>\n",
              "    </tr>\n",
              "    <tr>\n",
              "      <th>75%</th>\n",
              "      <td>45081.000000</td>\n",
              "      <td>45.000000</td>\n",
              "      <td>4144.083617</td>\n",
              "      <td>19.673380</td>\n",
              "      <td>6.834600e+04</td>\n",
              "      <td>3.163200e+04</td>\n",
              "      <td>2.961600e+04</td>\n",
              "      <td>6.200000</td>\n",
              "      <td>16.258495</td>\n",
              "      <td>4474.702130</td>\n",
              "      <td>0.012586</td>\n",
              "      <td>0.015782</td>\n",
              "      <td>0.015245</td>\n",
              "      <td>0.100508</td>\n",
              "      <td>11.502102</td>\n",
              "      <td>0.103319</td>\n",
              "      <td>0.115791</td>\n",
              "      <td>0.079853</td>\n",
              "      <td>0.002288</td>\n",
              "      <td>0.006383</td>\n",
              "      <td>0.949644</td>\n",
              "      <td>0.103341</td>\n",
              "      <td>0.258811</td>\n",
              "      <td>0.248408</td>\n",
              "      <td>1.036165</td>\n",
              "      <td>0.946820</td>\n",
              "      <td>0.018056</td>\n",
              "      <td>0.010608</td>\n",
              "      <td>5.592752e-04</td>\n",
              "      <td>8.165206</td>\n",
              "      <td>11.469021</td>\n",
              "      <td>9.997878e-05</td>\n",
              "      <td>6.926599e-05</td>\n",
              "      <td>1.512238e-04</td>\n",
              "      <td>5.827452e-04</td>\n",
              "      <td>-15.676438</td>\n",
              "      <td>1.487992e+08</td>\n",
              "      <td>8.096107e-04</td>\n",
              "      <td>197.810236</td>\n",
              "    </tr>\n",
              "    <tr>\n",
              "      <th>max</th>\n",
              "      <td>56045.000000</td>\n",
              "      <td>56.000000</td>\n",
              "      <td>802512.591965</td>\n",
              "      <td>4689.842415</td>\n",
              "      <td>9.962789e+06</td>\n",
              "      <td>4.896159e+06</td>\n",
              "      <td>4.374541e+06</td>\n",
              "      <td>18.500000</td>\n",
              "      <td>4671.667032</td>\n",
              "      <td>694190.208120</td>\n",
              "      <td>2.601472</td>\n",
              "      <td>2.898284</td>\n",
              "      <td>4.571848</td>\n",
              "      <td>7.158412</td>\n",
              "      <td>1179.566637</td>\n",
              "      <td>7.298088</td>\n",
              "      <td>22.784702</td>\n",
              "      <td>12.433101</td>\n",
              "      <td>0.488867</td>\n",
              "      <td>2.600000</td>\n",
              "      <td>129.026013</td>\n",
              "      <td>7.280629</td>\n",
              "      <td>67.481129</td>\n",
              "      <td>66.835126</td>\n",
              "      <td>257.964729</td>\n",
              "      <td>248.327062</td>\n",
              "      <td>2.741148</td>\n",
              "      <td>2.339579</td>\n",
              "      <td>5.296136e-02</td>\n",
              "      <td>937.071062</td>\n",
              "      <td>1179.566637</td>\n",
              "      <td>1.280286e-02</td>\n",
              "      <td>9.231649e-03</td>\n",
              "      <td>1.498215e-02</td>\n",
              "      <td>5.759369e-02</td>\n",
              "      <td>25.200000</td>\n",
              "      <td>5.706214e+08</td>\n",
              "      <td>6.666667e-02</td>\n",
              "      <td>10350.349099</td>\n",
              "    </tr>\n",
              "  </tbody>\n",
              "</table>\n",
              "</div>"
            ],
            "text/plain": [
              "         countyFIPS     stateFIPS  ...         ratio  Confirmed_cases\n",
              "count  47130.000000  47130.000000  ...  4.713000e+04     47130.000000\n",
              "mean   30383.649268     30.280076  ...  1.082113e-03       228.035919\n",
              "std    15160.256142     15.142090  ...  2.940205e-03       297.760148\n",
              "min     1001.000000      1.000000  ...  1.816377e-07       141.487526\n",
              "25%    18177.000000     18.000000  ...  1.433408e-04       150.620539\n",
              "50%    29176.000000     29.000000  ...  3.193192e-04       162.903699\n",
              "75%    45081.000000     45.000000  ...  8.096107e-04       197.810236\n",
              "max    56045.000000     56.000000  ...  6.666667e-02     10350.349099\n",
              "\n",
              "[8 rows x 39 columns]"
            ]
          },
          "metadata": {
            "tags": []
          },
          "execution_count": 97
        }
      ]
    },
    {
      "cell_type": "code",
      "metadata": {
        "id": "xFrG6dl-EUNi"
      },
      "source": [
        "validation_df.to_csv('Result_final.csv')"
      ],
      "execution_count": null,
      "outputs": []
    },
    {
      "cell_type": "code",
      "metadata": {
        "id": "j5ziP-Y6EULE",
        "colab": {
          "base_uri": "https://localhost:8080/",
          "height": 17
        },
        "outputId": "8fe567cb-e4c8-410c-a3d6-a7350419c025"
      },
      "source": [
        "from google.colab import files\n",
        "files.download('Result_final.csv')"
      ],
      "execution_count": null,
      "outputs": [
        {
          "output_type": "display_data",
          "data": {
            "application/javascript": [
              "\n",
              "    async function download(id, filename, size) {\n",
              "      if (!google.colab.kernel.accessAllowed) {\n",
              "        return;\n",
              "      }\n",
              "      const div = document.createElement('div');\n",
              "      const label = document.createElement('label');\n",
              "      label.textContent = `Downloading \"${filename}\": `;\n",
              "      div.appendChild(label);\n",
              "      const progress = document.createElement('progress');\n",
              "      progress.max = size;\n",
              "      div.appendChild(progress);\n",
              "      document.body.appendChild(div);\n",
              "\n",
              "      const buffers = [];\n",
              "      let downloaded = 0;\n",
              "\n",
              "      const channel = await google.colab.kernel.comms.open(id);\n",
              "      // Send a message to notify the kernel that we're ready.\n",
              "      channel.send({})\n",
              "\n",
              "      for await (const message of channel.messages) {\n",
              "        // Send a message to notify the kernel that we're ready.\n",
              "        channel.send({})\n",
              "        if (message.buffers) {\n",
              "          for (const buffer of message.buffers) {\n",
              "            buffers.push(buffer);\n",
              "            downloaded += buffer.byteLength;\n",
              "            progress.value = downloaded;\n",
              "          }\n",
              "        }\n",
              "      }\n",
              "      const blob = new Blob(buffers, {type: 'application/binary'});\n",
              "      const a = document.createElement('a');\n",
              "      a.href = window.URL.createObjectURL(blob);\n",
              "      a.download = filename;\n",
              "      div.appendChild(a);\n",
              "      a.click();\n",
              "      div.remove();\n",
              "    }\n",
              "  "
            ],
            "text/plain": [
              "<IPython.core.display.Javascript object>"
            ]
          },
          "metadata": {
            "tags": []
          }
        },
        {
          "output_type": "display_data",
          "data": {
            "application/javascript": [
              "download(\"download_a02ba4e2-f026-4411-9ff3-d024c9b7ad60\", \"Result_final.csv\", 33250491)"
            ],
            "text/plain": [
              "<IPython.core.display.Javascript object>"
            ]
          },
          "metadata": {
            "tags": []
          }
        }
      ]
    }
  ]
}